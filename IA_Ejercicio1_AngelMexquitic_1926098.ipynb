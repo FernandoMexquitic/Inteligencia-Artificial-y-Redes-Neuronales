{
  "nbformat": 4,
  "nbformat_minor": 0,
  "metadata": {
    "colab": {
      "provenance": [],
      "authorship_tag": "ABX9TyPnFy6xESIyJPWA9IUezfA1",
      "include_colab_link": true
    },
    "kernelspec": {
      "name": "python3",
      "display_name": "Python 3"
    },
    "language_info": {
      "name": "python"
    }
  },
  "cells": [
    {
      "cell_type": "markdown",
      "metadata": {
        "id": "view-in-github",
        "colab_type": "text"
      },
      "source": [
        "<a href=\"https://colab.research.google.com/github/FernandoMexquitic/Inteligencia-Artificial-y-Redes-Neuronales/blob/main/IA_Ejercicio1_AngelMexquitic_1926098.ipynb\" target=\"_parent\"><img src=\"https://colab.research.google.com/assets/colab-badge.svg\" alt=\"Open In Colab\"/></a>"
      ]
    },
    {
      "cell_type": "markdown",
      "source": [
        "# **A2: Ejercicios en Python 1**\n",
        "Nombre: Angel Fernando Mexquitic Rodriguez Matricula: 1926098    Hora:N1"
      ],
      "metadata": {
        "id": "4rwwuCGzDQMk"
      }
    },
    {
      "cell_type": "code",
      "source": [
        "#Escribe un programa que le pida al usuario por su nombre y que lo salude con su nombre, excepto si se llama “Ana”, “Juan”, y “Pedro”.\n",
        "a=\"Ana\"\n",
        "b=\"Juan\"\n",
        "c=\"Pedro\"\n",
        "d = input(\"Hola, escribe tu nombre: \")\n",
        "if d == a or d == b or d == c:\n",
        "  print(\"Lo siento, no hablo con personas que se llamen como tu\")\n",
        "else: \n",
        "    print(\"Mucho gusto \" + d + \" es un placer conocerte\")"
      ],
      "metadata": {
        "colab": {
          "base_uri": "https://localhost:8080/"
        },
        "id": "O427GUWSFU6v",
        "outputId": "db541075-b2b0-4bf5-80e6-7d52ce1d1f7e"
      },
      "execution_count": null,
      "outputs": [
        {
          "output_type": "stream",
          "name": "stdout",
          "text": [
            "Hola, escribe tu nombre: Ana\n",
            "Lo siento, no hablo con personas que se llamen como tu\n"
          ]
        }
      ]
    },
    {
      "cell_type": "code",
      "source": [
        "#Escribe una función que regrese el último elemento de una lista y que revierta el orden de la lista e imprima la lista revertida. \n",
        "Lista=[\"azul\",\"rojo\",\"verde\",\"amarillo\",\"negro\",\"naranja\",\"celeste\",\"blanco\"]\n",
        "def funcion(Lista):\n",
        "  print(Lista[-1])\n",
        "  print(list(reversed(Lista)))\n",
        "funcion(Lista)"
      ],
      "metadata": {
        "colab": {
          "base_uri": "https://localhost:8080/"
        },
        "id": "3zM-uj8bU0PL",
        "outputId": "a4e1337d-5bf6-414a-a145-6b417747e419"
      },
      "execution_count": null,
      "outputs": [
        {
          "output_type": "stream",
          "name": "stdout",
          "text": [
            "blanco\n",
            "['blanco', 'celeste', 'naranja', 'negro', 'amarillo', 'verde', 'rojo', 'azul']\n"
          ]
        }
      ]
    },
    {
      "cell_type": "code",
      "source": [
        "#Escribe una función que toma una lista de strings y los imprima línea por línea en un marco rectangular. \n",
        "lista=[\"**********\",\"*  Hola  *\",\"*   a    *\",\"*  todos *\",\"*  esto  *\",\"*   es   *\",\"*   un   *\",\"*  marco *\",\"**********\"]\n",
        "def funcion(lista):\n",
        "  for x in lista:\n",
        "    print(x)\n",
        "funcion(lista)"
      ],
      "metadata": {
        "colab": {
          "base_uri": "https://localhost:8080/"
        },
        "id": "PGTLbNb9YR_-",
        "outputId": "3069c9b8-e82f-403f-f327-d9161622ec75"
      },
      "execution_count": null,
      "outputs": [
        {
          "output_type": "stream",
          "name": "stdout",
          "text": [
            "**********\n",
            "*  Hola  *\n",
            "*   a    *\n",
            "*  todos *\n",
            "*  esto  *\n",
            "*   es   *\n",
            "*   un   *\n",
            "*  marco *\n",
            "**********\n"
          ]
        }
      ]
    }
  ]
}