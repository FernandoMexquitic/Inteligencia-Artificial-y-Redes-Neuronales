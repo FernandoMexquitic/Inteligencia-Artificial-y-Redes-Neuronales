{
  "nbformat": 4,
  "nbformat_minor": 0,
  "metadata": {
    "colab": {
      "provenance": [],
      "include_colab_link": true
    },
    "kernelspec": {
      "name": "python3",
      "display_name": "Python 3"
    },
    "language_info": {
      "name": "python"
    }
  },
  "cells": [
    {
      "cell_type": "markdown",
      "metadata": {
        "id": "view-in-github",
        "colab_type": "text"
      },
      "source": [
        "<a href=\"https://colab.research.google.com/github/FernandoMexquitic/Inteligencia-Artificial-y-Redes-Neuronales/blob/main/PIA_IAyRN_Red2.ipynb\" target=\"_parent\"><img src=\"https://colab.research.google.com/assets/colab-badge.svg\" alt=\"Open In Colab\"/></a>"
      ]
    },
    {
      "cell_type": "markdown",
      "source": [
        "# ***PIA: Entrenamiento de una Red Neuronal Convolucional***\n",
        "#Integrantes:\n",
        "#Angel Fernando Mexquitic Rodriguez  1926098\n",
        "#Devany Anahi Lopez Sanchez 1866278\n",
        "#Angel Eduardo Gonzalez Melendres 1905230 IMTC\n",
        "#Adrián Gonzalez Garza 1841740 IMTC\n",
        "Hora: N1  Grupo:007"
      ],
      "metadata": {
        "id": "cTRxloLkThYD"
      }
    },
    {
      "cell_type": "code",
      "execution_count": null,
      "metadata": {
        "id": "HNlA1JpECgHK"
      },
      "outputs": [],
      "source": [
        "import os\n",
        "import glob\n",
        "import cv2\n",
        "import tensorflow as tf\n",
        "from tensorflow import keras\n",
        "from tensorflow.keras import datasets, layers, models\n",
        "import matplotlib.pyplot as plt\n",
        "from sklearn.model_selection import train_test_split\n",
        "import numpy as npy\n",
        "from tensorflow import keras\n",
        "import numpy as np"
      ]
    },
    {
      "cell_type": "code",
      "source": [
        "mnist = keras.datasets.mnist\n",
        "\n",
        "(x_train, y_train), (x_test, y_test) = mnist.load_data()"
      ],
      "metadata": {
        "colab": {
          "base_uri": "https://localhost:8080/"
        },
        "id": "FNqNosfNCnTV",
        "outputId": "bc565396-0e0f-453d-c5fc-e3533f377893"
      },
      "execution_count": null,
      "outputs": [
        {
          "output_type": "stream",
          "name": "stdout",
          "text": [
            "Downloading data from https://storage.googleapis.com/tensorflow/tf-keras-datasets/mnist.npz\n",
            "11490434/11490434 [==============================] - 0s 0us/step\n"
          ]
        }
      ]
    },
    {
      "cell_type": "code",
      "source": [
        "class_names = [\"0\", \"1\", \"2\", \"3\", \"4\",\"5\", \"6\", \"7\", \"8\", \"9\"]"
      ],
      "metadata": {
        "id": "09PdEKzhCrBT"
      },
      "execution_count": null,
      "outputs": []
    },
    {
      "cell_type": "code",
      "source": [
        "x_train = x_train / 255.\n",
        "x_test = x_test / 255."
      ],
      "metadata": {
        "id": "VjJxav89Csb1"
      },
      "execution_count": null,
      "outputs": []
    },
    {
      "cell_type": "code",
      "source": [
        "x_train.shape"
      ],
      "metadata": {
        "colab": {
          "base_uri": "https://localhost:8080/"
        },
        "id": "5_OWRDSGCt8L",
        "outputId": "bccd7bbf-9316-4b78-c8de-c813e99702b3"
      },
      "execution_count": null,
      "outputs": [
        {
          "output_type": "execute_result",
          "data": {
            "text/plain": [
              "(60000, 28, 28)"
            ]
          },
          "metadata": {},
          "execution_count": 5
        }
      ]
    },
    {
      "cell_type": "code",
      "source": [
        "x_test.shape"
      ],
      "metadata": {
        "colab": {
          "base_uri": "https://localhost:8080/"
        },
        "id": "u2dibPvHCvic",
        "outputId": "4892edf9-2436-4c4f-9085-071684547263"
      },
      "execution_count": null,
      "outputs": [
        {
          "output_type": "execute_result",
          "data": {
            "text/plain": [
              "(10000, 28, 28)"
            ]
          },
          "metadata": {},
          "execution_count": 6
        }
      ]
    },
    {
      "cell_type": "code",
      "source": [
        "plt.figure(figsize=(10,10))\n",
        "for i in range(25):\n",
        "    plt.subplot(5,5,i+1)\n",
        "    plt.xticks([])\n",
        "    plt.yticks([])\n",
        "    plt.grid(False)\n",
        "    plt.imshow(x_train[i], cmap=plt.cm.binary)\n",
        "    plt.xlabel([y_train[i]])\n",
        "plt.show()"
      ],
      "metadata": {
        "colab": {
          "base_uri": "https://localhost:8080/",
          "height": 589
        },
        "id": "q96rG2NmCxNM",
        "outputId": "19a58d35-b464-48e8-ba94-845eeed0fac3"
      },
      "execution_count": null,
      "outputs": [
        {
          "output_type": "display_data",
          "data": {
            "text/plain": [
              "<Figure size 720x720 with 25 Axes>"
            ],
            "image/png": "[encoded data removed]"
          },
          "metadata": {}
        }
      ]
    },
    {
      "cell_type": "code",
      "source": [
        "# Parte convolusional de la RNAC\n",
        "\n",
        "model = models.Sequential()\n",
        "model.add(layers.Conv2D(32, (3, 3), activation='relu', input_shape=(28, 28, 3)))\n",
        "model.add(layers.MaxPooling2D((2, 2)))\n",
        "model.add(layers.Conv2D(64, (3, 3), activation='relu'))\n",
        "model.add(layers.MaxPooling2D((2, 2)))\n",
        "model.add(layers.Conv2D(64, (3, 3), activation='relu'))"
      ],
      "metadata": {
        "id": "VEtaoIujC0aN"
      },
      "execution_count": null,
      "outputs": []
    },
    {
      "cell_type": "code",
      "source": [
        "model = keras.Sequential([\n",
        "    keras.layers.Flatten(input_shape=(28, 28)),\n",
        "    keras.layers.Dense(128, activation='relu'),\n",
        "    keras.layers.Dense(10, activation='softmax')\n",
        "])"
      ],
      "metadata": {
        "id": "KI92utTIDAFj"
      },
      "execution_count": null,
      "outputs": []
    },
    {
      "cell_type": "code",
      "source": [
        "model.compile(optimizer='adam',\n",
        "              loss='sparse_categorical_crossentropy',\n",
        "              metrics=['accuracy'])"
      ],
      "metadata": {
        "id": "fO7M0R5ZDDGc"
      },
      "execution_count": null,
      "outputs": []
    },
    {
      "cell_type": "code",
      "source": [
        "history = model.fit(x_train, y_train, epochs=10, validation_data=(x_test, y_test))"
      ],
      "metadata": {
        "colab": {
          "base_uri": "https://localhost:8080/"
        },
        "id": "Q4w494UmDL10",
        "outputId": "a8bff134-e8c9-453e-eddf-085c1a5afb27"
      },
      "execution_count": null,
      "outputs": [
        {
          "output_type": "stream",
          "name": "stdout",
          "text": [
            "Epoch 1/10\n",
            "1875/1875 [==============================] - 7s 4ms/step - loss: 0.2548 - accuracy: 0.9275 - val_loss: 0.1446 - val_accuracy: 0.9572\n",
            "Epoch 2/10\n",
            "1875/1875 [==============================] - 6s 3ms/step - loss: 0.1152 - accuracy: 0.9656 - val_loss: 0.1057 - val_accuracy: 0.9666\n",
            "Epoch 3/10\n",
            "1875/1875 [==============================] - 6s 3ms/step - loss: 0.0788 - accuracy: 0.9765 - val_loss: 0.0890 - val_accuracy: 0.9727\n",
            "Epoch 4/10\n",
            "1875/1875 [==============================] - 6s 3ms/step - loss: 0.0597 - accuracy: 0.9819 - val_loss: 0.0794 - val_accuracy: 0.9743\n",
            "Epoch 5/10\n",
            "1875/1875 [==============================] - 6s 3ms/step - loss: 0.0469 - accuracy: 0.9854 - val_loss: 0.0827 - val_accuracy: 0.9749\n",
            "Epoch 6/10\n",
            "1875/1875 [==============================] - 6s 3ms/step - loss: 0.0369 - accuracy: 0.9884 - val_loss: 0.0778 - val_accuracy: 0.9768\n",
            "Epoch 7/10\n",
            "1875/1875 [==============================] - 6s 3ms/step - loss: 0.0295 - accuracy: 0.9905 - val_loss: 0.0807 - val_accuracy: 0.9761\n",
            "Epoch 8/10\n",
            "1875/1875 [==============================] - 7s 3ms/step - loss: 0.0236 - accuracy: 0.9927 - val_loss: 0.0746 - val_accuracy: 0.9786\n",
            "Epoch 9/10\n",
            "1875/1875 [==============================] - 6s 3ms/step - loss: 0.0204 - accuracy: 0.9934 - val_loss: 0.0743 - val_accuracy: 0.9788\n",
            "Epoch 10/10\n",
            "1875/1875 [==============================] - 8s 4ms/step - loss: 0.0152 - accuracy: 0.9952 - val_loss: 0.0794 - val_accuracy: 0.9782\n"
          ]
        }
      ]
    },
    {
      "cell_type": "code",
      "source": [
        "plt.plot(history.history['accuracy'], label='accuracy')\n",
        "plt.plot(history.history['val_accuracy'], label = 'val_accuracy')\n",
        "plt.xlabel('Epoch')\n",
        "plt.ylabel('Accuracy')\n",
        "plt.ylim([0.4, 1])\n",
        "plt.xlim([-1, 11])\n",
        "plt.legend(loc='lower right')\n",
        "\n",
        "test_loss, test_acc = model.evaluate(x_test,  y_test, verbose=2)"
      ],
      "metadata": {
        "colab": {
          "base_uri": "https://localhost:8080/",
          "height": 301
        },
        "id": "-_M6bjjgDmQx",
        "outputId": "85a4b1bc-3444-43d3-cb9c-fe5cd374fd01"
      },
      "execution_count": null,
      "outputs": [
        {
          "output_type": "stream",
          "name": "stdout",
          "text": [
            "313/313 - 1s - loss: 0.0794 - accuracy: 0.9782 - 913ms/epoch - 3ms/step\n"
          ]
        },
        {
          "output_type": "display_data",
          "data": {
            "text/plain": [
              "<Figure size 432x288 with 1 Axes>"
            ],
            "image/png": "[encoded data removed]"
          },
          "metadata": {
            "needs_background": "light"
          }
        }
      ]
    },
    {
      "cell_type": "code",
      "source": [
        "imagenes_dataset = []\n",
        "etiquetas_dataset = []"
      ],
      "metadata": {
        "id": "zBsqgdwSEsBO"
      },
      "execution_count": null,
      "outputs": []
    },
    {
      "cell_type": "code",
      "source": [
        "etiquetas_dataset"
      ],
      "metadata": {
        "colab": {
          "base_uri": "https://localhost:8080/"
        },
        "id": "ItRa650YEzxf",
        "outputId": "8cca64e4-1a37-439d-98e9-bb361aa19d04"
      },
      "execution_count": null,
      "outputs": [
        {
          "output_type": "execute_result",
          "data": {
            "text/plain": [
              "['0',\n",
              " '0',\n",
              " '0',\n",
              " '0',\n",
              " '0',\n",
              " '0',\n",
              " '0',\n",
              " '0',\n",
              " '0',\n",
              " '0',\n",
              " '0',\n",
              " '0',\n",
              " '0',\n",
              " '0',\n",
              " '0',\n",
              " '0',\n",
              " '0',\n",
              " '0',\n",
              " '0',\n",
              " '0',\n",
              " '0',\n",
              " '0',\n",
              " '0',\n",
              " '0',\n",
              " '0',\n",
              " '0',\n",
              " '0',\n",
              " '0',\n",
              " '0',\n",
              " '0',\n",
              " '0',\n",
              " '0',\n",
              " '0',\n",
              " '0',\n",
              " '0',\n",
              " '0',\n",
              " '0',\n",
              " '0',\n",
              " '0',\n",
              " '0',\n",
              " '1',\n",
              " '1',\n",
              " '1',\n",
              " '1',\n",
              " '1',\n",
              " '1',\n",
              " '1',\n",
              " '1',\n",
              " '1',\n",
              " '1',\n",
              " '1',\n",
              " '1',\n",
              " '1',\n",
              " '1',\n",
              " '1',\n",
              " '1',\n",
              " '1',\n",
              " '1',\n",
              " '1',\n",
              " '1',\n",
              " '1',\n",
              " '1',\n",
              " '1',\n",
              " '1',\n",
              " '1',\n",
              " '1',\n",
              " '1',\n",
              " '1',\n",
              " '1',\n",
              " '1',\n",
              " '1',\n",
              " '1',\n",
              " '1',\n",
              " '1',\n",
              " '1',\n",
              " '1',\n",
              " '1',\n",
              " '1',\n",
              " '1',\n",
              " '1',\n",
              " '2',\n",
              " '2',\n",
              " '2',\n",
              " '2',\n",
              " '2',\n",
              " '2',\n",
              " '2',\n",
              " '2',\n",
              " '2',\n",
              " '2',\n",
              " '2',\n",
              " '2',\n",
              " '2',\n",
              " '2',\n",
              " '2',\n",
              " '2',\n",
              " '2',\n",
              " '2',\n",
              " '2',\n",
              " '2',\n",
              " '2',\n",
              " '2',\n",
              " '2',\n",
              " '2',\n",
              " '2',\n",
              " '2',\n",
              " '2',\n",
              " '2',\n",
              " '2',\n",
              " '2',\n",
              " '2',\n",
              " '2',\n",
              " '2',\n",
              " '2',\n",
              " '2',\n",
              " '2',\n",
              " '2',\n",
              " '2',\n",
              " '2',\n",
              " '2',\n",
              " '3',\n",
              " '3',\n",
              " '3',\n",
              " '3',\n",
              " '3',\n",
              " '3',\n",
              " '3',\n",
              " '3',\n",
              " '3',\n",
              " '3',\n",
              " '3',\n",
              " '3',\n",
              " '3',\n",
              " '3',\n",
              " '3',\n",
              " '3',\n",
              " '3',\n",
              " '3',\n",
              " '3',\n",
              " '3',\n",
              " '3',\n",
              " '3',\n",
              " '3',\n",
              " '3',\n",
              " '3',\n",
              " '3',\n",
              " '3',\n",
              " '3',\n",
              " '3',\n",
              " '3',\n",
              " '3',\n",
              " '3',\n",
              " '3',\n",
              " '3',\n",
              " '3',\n",
              " '3',\n",
              " '3',\n",
              " '3',\n",
              " '3',\n",
              " '3',\n",
              " '4',\n",
              " '4',\n",
              " '4',\n",
              " '4',\n",
              " '4',\n",
              " '4',\n",
              " '4',\n",
              " '4',\n",
              " '4',\n",
              " '4',\n",
              " '4',\n",
              " '4',\n",
              " '4',\n",
              " '4',\n",
              " '4',\n",
              " '4',\n",
              " '4',\n",
              " '4',\n",
              " '4',\n",
              " '4',\n",
              " '4',\n",
              " '4',\n",
              " '4',\n",
              " '4',\n",
              " '4',\n",
              " '4',\n",
              " '4',\n",
              " '4',\n",
              " '4',\n",
              " '4',\n",
              " '4',\n",
              " '4',\n",
              " '4',\n",
              " '4',\n",
              " '4',\n",
              " '4',\n",
              " '4',\n",
              " '4',\n",
              " '4',\n",
              " '4',\n",
              " '5',\n",
              " '5',\n",
              " '5',\n",
              " '5',\n",
              " '5',\n",
              " '5',\n",
              " '5',\n",
              " '5',\n",
              " '5',\n",
              " '5',\n",
              " '5',\n",
              " '5',\n",
              " '5',\n",
              " '5',\n",
              " '5',\n",
              " '5',\n",
              " '5',\n",
              " '5',\n",
              " '5',\n",
              " '5',\n",
              " '5',\n",
              " '5',\n",
              " '5',\n",
              " '5',\n",
              " '5',\n",
              " '5',\n",
              " '5',\n",
              " '5',\n",
              " '5',\n",
              " '5',\n",
              " '5',\n",
              " '5',\n",
              " '5',\n",
              " '5',\n",
              " '5',\n",
              " '5',\n",
              " '5',\n",
              " '5',\n",
              " '5',\n",
              " '5',\n",
              " '6',\n",
              " '6',\n",
              " '6',\n",
              " '6',\n",
              " '6',\n",
              " '6',\n",
              " '6',\n",
              " '6',\n",
              " '6',\n",
              " '6',\n",
              " '6',\n",
              " '6',\n",
              " '6',\n",
              " '6',\n",
              " '6',\n",
              " '6',\n",
              " '6',\n",
              " '6',\n",
              " '6',\n",
              " '6',\n",
              " '6',\n",
              " '6',\n",
              " '6',\n",
              " '6',\n",
              " '6',\n",
              " '6',\n",
              " '6',\n",
              " '6',\n",
              " '6',\n",
              " '6',\n",
              " '6',\n",
              " '6',\n",
              " '6',\n",
              " '6',\n",
              " '6',\n",
              " '6',\n",
              " '6',\n",
              " '6',\n",
              " '6',\n",
              " '6',\n",
              " '7',\n",
              " '7',\n",
              " '7',\n",
              " '7',\n",
              " '7',\n",
              " '7',\n",
              " '7',\n",
              " '7',\n",
              " '7',\n",
              " '7',\n",
              " '7',\n",
              " '7',\n",
              " '7',\n",
              " '7',\n",
              " '7',\n",
              " '7',\n",
              " '7',\n",
              " '7',\n",
              " '7',\n",
              " '7',\n",
              " '7',\n",
              " '7',\n",
              " '7',\n",
              " '7',\n",
              " '7',\n",
              " '7',\n",
              " '7',\n",
              " '7',\n",
              " '7',\n",
              " '7',\n",
              " '7',\n",
              " '7',\n",
              " '7',\n",
              " '7',\n",
              " '7',\n",
              " '7',\n",
              " '7',\n",
              " '7',\n",
              " '7',\n",
              " '7',\n",
              " '8',\n",
              " '8',\n",
              " '8',\n",
              " '8',\n",
              " '8',\n",
              " '8',\n",
              " '8',\n",
              " '8',\n",
              " '8',\n",
              " '8',\n",
              " '8',\n",
              " '8',\n",
              " '8',\n",
              " '8',\n",
              " '8',\n",
              " '8',\n",
              " '8',\n",
              " '8',\n",
              " '8',\n",
              " '8',\n",
              " '8',\n",
              " '8',\n",
              " '8',\n",
              " '8',\n",
              " '8',\n",
              " '8',\n",
              " '8',\n",
              " '8',\n",
              " '8',\n",
              " '8',\n",
              " '8',\n",
              " '8',\n",
              " '8',\n",
              " '8',\n",
              " '8',\n",
              " '8',\n",
              " '8',\n",
              " '8',\n",
              " '8',\n",
              " '8',\n",
              " '9',\n",
              " '9',\n",
              " '9',\n",
              " '9',\n",
              " '9',\n",
              " '9',\n",
              " '9',\n",
              " '9',\n",
              " '9',\n",
              " '9',\n",
              " '9',\n",
              " '9',\n",
              " '9',\n",
              " '9',\n",
              " '9',\n",
              " '9',\n",
              " '9',\n",
              " '9',\n",
              " '9',\n",
              " '9',\n",
              " '9',\n",
              " '9',\n",
              " '9',\n",
              " '9',\n",
              " '9',\n",
              " '9',\n",
              " '9',\n",
              " '9',\n",
              " '9',\n",
              " '9',\n",
              " '9',\n",
              " '9',\n",
              " '9',\n",
              " '9',\n",
              " '9',\n",
              " '9',\n",
              " '9',\n",
              " '9',\n",
              " '9',\n",
              " '9']"
            ]
          },
          "metadata": {},
          "execution_count": 77
        }
      ]
    },
    {
      "cell_type": "code",
      "source": [
        "file = '/content/drive/MyDrive/FOTOS 0' \n",
        "\n",
        "for x in glob.iglob(f'{file}/*.png'):\n",
        "  #plt.imshow(x, cmap='gray')\n",
        "  print(x)\n",
        "  test_image = cv2.imread(x, cv2.IMREAD_GRAYSCALE )\n",
        "\n",
        "  # Formato de imagen\n",
        "  img_resized = cv2.resize(test_image, (28,28), interpolation=cv2.INTER_AREA )\n",
        "  img_resized = cv2.bitwise_not(img_resized)\n",
        "\n",
        "  # Guardar imagenes y etiquetas\n",
        "  imagenes_dataset.append(img_resized)\n",
        "  etiquetas_dataset.append(\"0\")\n",
        "\n",
        "  # Preview de la imagen de prueba\n",
        "  #plt.imshow(test_image, cmap='gray')"
      ],
      "metadata": {
        "id": "jr3KOOT2E4_Q"
      },
      "execution_count": null,
      "outputs": []
    },
    {
      "cell_type": "code",
      "source": [
        "file = '/content/drive/MyDrive/FOTOS 1' \n",
        "\n",
        "for x in glob.iglob(f'{file}/*.png'):\n",
        "  #plt.imshow(x, cmap='gray')\n",
        "  print(x)\n",
        "  test_image = cv2.imread(x, cv2.IMREAD_GRAYSCALE )\n",
        "\n",
        "  # Formato de imagen\n",
        "  img_resized = cv2.resize(test_image, (28,28), interpolation=cv2.INTER_AREA )\n",
        "  img_resized = cv2.bitwise_not(img_resized)\n",
        "\n",
        "  # Guardar imagenes y etiquetas\n",
        "  imagenes_dataset.append(img_resized)\n",
        "  etiquetas_dataset.append(\"1\")\n",
        "\n",
        "  # Preview de la imagen de prueba\n",
        "  #plt.imshow(test_image, cmap='gray')"
      ],
      "metadata": {
        "id": "C9-q7M-9E6On"
      },
      "execution_count": null,
      "outputs": []
    },
    {
      "cell_type": "code",
      "source": [
        "file = '/content/drive/MyDrive/FOTOS 2' \n",
        "\n",
        "for x in glob.iglob(f'{file}/*.png'):\n",
        "  #plt.imshow(x, cmap='gray')\n",
        "  print(x)\n",
        "  test_image = cv2.imread(x, cv2.IMREAD_GRAYSCALE )\n",
        "\n",
        "  # Formato de imagen\n",
        "  img_resized = cv2.resize(test_image, (28,28), interpolation=cv2.INTER_AREA )\n",
        "  img_resized = cv2.bitwise_not(img_resized)\n",
        "\n",
        "  # Guardar imagenes y etiquetas\n",
        "  imagenes_dataset.append(img_resized)\n",
        "  etiquetas_dataset.append(\"2\")\n",
        "\n",
        "  # Preview de la imagen de prueba\n",
        "  #plt.imshow(test_image, cmap='gray')"
      ],
      "metadata": {
        "id": "si_-km90E8hY"
      },
      "execution_count": null,
      "outputs": []
    },
    {
      "cell_type": "code",
      "source": [
        "file = '/content/drive/MyDrive/FOTOS 3' \n",
        "\n",
        "for x in glob.iglob(f'{file}/*.png'):\n",
        "  #plt.imshow(x, cmap='gray')\n",
        "  print(x)\n",
        "  test_image = cv2.imread(x, cv2.IMREAD_GRAYSCALE )\n",
        "\n",
        "  # Formato de imagen\n",
        "  img_resized = cv2.resize(test_image, (28,28), interpolation=cv2.INTER_AREA )\n",
        "  img_resized = cv2.bitwise_not(img_resized)\n",
        "\n",
        "  # Guardar imagenes y etiquetas\n",
        "  imagenes_dataset.append(img_resized)\n",
        "  etiquetas_dataset.append(\"3\")\n",
        "\n",
        "  # Preview de la imagen de prueba\n",
        "  #plt.imshow(test_image, cmap='gray')"
      ],
      "metadata": {
        "id": "JqCwU3DQFD4e"
      },
      "execution_count": null,
      "outputs": []
    },
    {
      "cell_type": "code",
      "source": [
        "file = '/content/drive/MyDrive/FOTOS 4' \n",
        "\n",
        "for x in glob.iglob(f'{file}/*.png'):\n",
        "  #plt.imshow(x, cmap='gray')\n",
        "  print(x)\n",
        "  test_image = cv2.imread(x, cv2.IMREAD_GRAYSCALE )\n",
        "\n",
        "  # Formato de imagen\n",
        "  img_resized = cv2.resize(test_image, (28,28), interpolation=cv2.INTER_AREA )\n",
        "  img_resized = cv2.bitwise_not(img_resized)\n",
        "\n",
        "  # Guardar imagenes y etiquetas\n",
        "  imagenes_dataset.append(img_resized)\n",
        "  etiquetas_dataset.append(\"4\")\n",
        "\n",
        "  # Preview de la imagen de prueba\n",
        "  #plt.imshow(test_image, cmap='gray')"
      ],
      "metadata": {
        "id": "OGbawtZpFGqn"
      },
      "execution_count": null,
      "outputs": []
    },
    {
      "cell_type": "code",
      "source": [
        "file = '/content/drive/MyDrive/FOTOS 5' \n",
        "\n",
        "for x in glob.iglob(f'{file}/*.png'):\n",
        "  #plt.imshow(x, cmap='gray')\n",
        "  print(x)\n",
        "  test_image = cv2.imread(x, cv2.IMREAD_GRAYSCALE )\n",
        "\n",
        "  # Formato de imagen\n",
        "  img_resized = cv2.resize(test_image, (28,28), interpolation=cv2.INTER_AREA )\n",
        "  img_resized = cv2.bitwise_not(img_resized)\n",
        "\n",
        "  # Guardar imagenes y etiquetas\n",
        "  imagenes_dataset.append(img_resized)\n",
        "  etiquetas_dataset.append(\"5\")\n",
        "\n",
        "  # Preview de la imagen de prueba\n",
        "  #plt.imshow(test_image, cmap='gray')"
      ],
      "metadata": {
        "id": "xTuCOp4BFQNd"
      },
      "execution_count": null,
      "outputs": []
    },
    {
      "cell_type": "code",
      "source": [
        "file = '/content/drive/MyDrive/FOTOS 6' \n",
        "\n",
        "for x in glob.iglob(f'{file}/*.png'):\n",
        "  #plt.imshow(x, cmap='gray')\n",
        "  print(x)\n",
        "  test_image = cv2.imread(x, cv2.IMREAD_GRAYSCALE )\n",
        "\n",
        "  # Formato de imagen\n",
        "  img_resized = cv2.resize(test_image, (28,28), interpolation=cv2.INTER_AREA )\n",
        "  img_resized = cv2.bitwise_not(img_resized)\n",
        "\n",
        "  # Guardar imagenes y etiquetas\n",
        "  imagenes_dataset.append(img_resized)\n",
        "  etiquetas_dataset.append(\"6\")\n",
        "\n",
        "  # Preview de la imagen de prueba\n",
        "  #plt.imshow(test_image, cmap='gray')"
      ],
      "metadata": {
        "id": "YA1wn_nOFU9u"
      },
      "execution_count": null,
      "outputs": []
    },
    {
      "cell_type": "code",
      "source": [
        "file = '/content/drive/MyDrive/FOTOS 7' \n",
        "\n",
        "for x in glob.iglob(f'{file}/*.png'):\n",
        "  #plt.imshow(x, cmap='gray')\n",
        "  print(x)\n",
        "  test_image = cv2.imread(x, cv2.IMREAD_GRAYSCALE )\n",
        "\n",
        "  # Formato de imagen\n",
        "  img_resized = cv2.resize(test_image, (28,28), interpolation=cv2.INTER_AREA )\n",
        "  img_resized = cv2.bitwise_not(img_resized)\n",
        "\n",
        "  # Guardar imagenes y etiquetas\n",
        "  imagenes_dataset.append(img_resized)\n",
        "  etiquetas_dataset.append(\"7\")\n",
        "\n",
        "  # Preview de la imagen de prueba\n",
        "  #plt.imshow(test_image, cmap='gray')"
      ],
      "metadata": {
        "id": "xbi2jbi2FX-f"
      },
      "execution_count": null,
      "outputs": []
    },
    {
      "cell_type": "code",
      "source": [
        "file = '/content/drive/MyDrive/FOTOS 8' \n",
        "\n",
        "for x in glob.iglob(f'{file}/*.png'):\n",
        "  #plt.imshow(x, cmap='gray')\n",
        "  print(x)\n",
        "  test_image = cv2.imread(x, cv2.IMREAD_GRAYSCALE )\n",
        "\n",
        "  # Formato de imagen\n",
        "  img_resized = cv2.resize(test_image, (28,28), interpolation=cv2.INTER_AREA )\n",
        "  img_resized = cv2.bitwise_not(img_resized)\n",
        "\n",
        "  # Guardar imagenes y etiquetas\n",
        "  imagenes_dataset.append(img_resized)\n",
        "  etiquetas_dataset.append(\"8\")\n",
        "\n",
        "  # Preview de la imagen de prueba\n",
        "  #plt.imshow(test_image, cmap='gray')"
      ],
      "metadata": {
        "id": "mt2C8rStFad2"
      },
      "execution_count": null,
      "outputs": []
    },
    {
      "cell_type": "code",
      "source": [
        "file = '/content/drive/MyDrive/FOTOS 9' \n",
        "\n",
        "for x in glob.iglob(f'{file}/*.png'):\n",
        "  #plt.imshow(x, cmap='gray')\n",
        "  print(x)\n",
        "  test_image = cv2.imread(x, cv2.IMREAD_GRAYSCALE )\n",
        "\n",
        "  # Formato de imagen\n",
        "  img_resized = cv2.resize(test_image, (28,28), interpolation=cv2.INTER_AREA )\n",
        "  img_resized = cv2.bitwise_not(img_resized)\n",
        "\n",
        "  # Guardar imagenes y etiquetas\n",
        "  imagenes_dataset.append(img_resized)\n",
        "  etiquetas_dataset.append(\"9\")\n",
        "\n",
        "  # Preview de la imagen de prueba\n",
        "  #plt.imshow(test_image, cmap='gray')"
      ],
      "metadata": {
        "id": "CcrD5M-CFeFl"
      },
      "execution_count": null,
      "outputs": []
    },
    {
      "cell_type": "code",
      "source": [
        "a = np.array(imagenes_dataset)\n",
        "a.shape"
      ],
      "metadata": {
        "colab": {
          "base_uri": "https://localhost:8080/"
        },
        "id": "HRPck9ILFgeF",
        "outputId": "e3403557-ed3b-4a80-8fe9-7b78186cde55"
      },
      "execution_count": null,
      "outputs": [
        {
          "output_type": "execute_result",
          "data": {
            "text/plain": [
              "(400, 28, 28)"
            ]
          },
          "metadata": {},
          "execution_count": 67
        }
      ]
    },
    {
      "cell_type": "code",
      "source": [
        "b = np.array(etiquetas_dataset)\n",
        "b.shape"
      ],
      "metadata": {
        "colab": {
          "base_uri": "https://localhost:8080/"
        },
        "id": "aRw6iLQ7GEaD",
        "outputId": "0f3d8ab9-17d2-4c04-a32e-a223abeb5320"
      },
      "execution_count": null,
      "outputs": [
        {
          "output_type": "execute_result",
          "data": {
            "text/plain": [
              "(400,)"
            ]
          },
          "metadata": {},
          "execution_count": 68
        }
      ]
    },
    {
      "cell_type": "code",
      "source": [
        "y = np.array(b)\n",
        "X = np.array(a, dtype=np.uint8)"
      ],
      "metadata": {
        "id": "XOIrBpnHGGdM"
      },
      "execution_count": null,
      "outputs": []
    },
    {
      "cell_type": "code",
      "source": [
        "train_X,test_X,train_Y,test_Y = train_test_split(X,y,test_size=0.2)\n",
        "print('Training data shape : ', train_X.shape, train_Y.shape)\n",
        "print('Testing data shape : ', test_X.shape, test_Y.shape)"
      ],
      "metadata": {
        "colab": {
          "base_uri": "https://localhost:8080/"
        },
        "id": "ZvMOSJ70GI5r",
        "outputId": "98f2f00a-aecf-4f4f-8fa6-23f66f6e5285"
      },
      "execution_count": null,
      "outputs": [
        {
          "output_type": "stream",
          "name": "stdout",
          "text": [
            "Training data shape :  (320, 28, 28) (320,)\n",
            "Testing data shape :  (80, 28, 28) (80,)\n"
          ]
        }
      ]
    },
    {
      "cell_type": "code",
      "source": [
        "test_X.shape"
      ],
      "metadata": {
        "colab": {
          "base_uri": "https://localhost:8080/"
        },
        "id": "AynkPLHcGJ9r",
        "outputId": "4feb5047-3a01-4d27-f917-9444bc1bdf23"
      },
      "execution_count": null,
      "outputs": [
        {
          "output_type": "execute_result",
          "data": {
            "text/plain": [
              "(80, 28, 28)"
            ]
          },
          "metadata": {},
          "execution_count": 71
        }
      ]
    },
    {
      "cell_type": "code",
      "source": [
        "predictions = model.predict(x_test)"
      ],
      "metadata": {
        "colab": {
          "base_uri": "https://localhost:8080/"
        },
        "id": "QMGKdUimDsNI",
        "outputId": "e575f2bf-3d5d-4aea-c9e6-bddbde6900c7"
      },
      "execution_count": null,
      "outputs": [
        {
          "output_type": "stream",
          "name": "stdout",
          "text": [
            "313/313 [==============================] - 1s 2ms/step\n"
          ]
        }
      ]
    },
    {
      "cell_type": "code",
      "source": [
        "from pandas.core.arrays.timedeltas import NpDtype\n",
        "def plot_image(i, predictions_array, true_label, img):\n",
        "  predictions_array, true_label, img = predictions_array, true_label[i], img[i]\n",
        "  plt.grid(False)\n",
        "  plt.xticks([])\n",
        "  plt.yticks([])\n",
        "\n",
        "  plt.imshow(img, cmap=plt.cm.binary)\n",
        "\n",
        "  predicted_label = npy.argmax(predictions_array)\n",
        "  if predicted_label == true_label:\n",
        "    color = 'blue'\n",
        "  else:\n",
        "    color = 'red'\n",
        "\n",
        "  plt.xlabel(\"{} {:2.0f}% ({})\".format(class_names[predicted_label],\n",
        "                                100*npy.max(predictions_array),\n",
        "                                class_names[true_label]),\n",
        "                                color=color)\n",
        "\n",
        "def plot_value_array(i, predictions_array, true_label):\n",
        "  predictions_array, true_label = predictions_array, true_label[i]\n",
        "  plt.grid(False)\n",
        "  plt.xticks(range(10))\n",
        "  plt.yticks([])\n",
        "  thisplot = plt.bar(range(10), predictions_array, color=\"#777777\")\n",
        "  plt.ylim([0, 1])\n",
        "  predicted_label = npy.argmax(predictions_array)\n",
        "\n",
        "  thisplot[predicted_label].set_color('red')\n",
        "  thisplot[true_label].set_color('blue')"
      ],
      "metadata": {
        "id": "l0BOgmSOEDRa"
      },
      "execution_count": null,
      "outputs": []
    },
    {
      "cell_type": "code",
      "source": [
        "i = 3\n",
        "plt.figure(figsize=(6,3))\n",
        "plt.subplot(1,2,1)\n",
        "plot_image(i, predictions[i], y_test, imagenes_dataset)\n",
        "plt.subplot(1,2,2)\n",
        "plot_value_array(i, predictions[i],  y_test)\n",
        "plt.show()"
      ],
      "metadata": {
        "colab": {
          "base_uri": "https://localhost:8080/",
          "height": 211
        },
        "id": "lEXHQePsGbuq",
        "outputId": "c90adc8f-14a3-4bab-c2f7-4cf707fcdbeb"
      },
      "execution_count": null,
      "outputs": [
        {
          "output_type": "display_data",
          "data": {
            "text/plain": [
              "<Figure size 432x216 with 2 Axes>"
            ],
            "image/png": "[encoded data removed]"
          },
          "metadata": {
            "needs_background": "light"
          }
        }
      ]
    },
    {
      "cell_type": "code",
      "source": [
        "i = 40\n",
        "plt.figure(figsize=(6,3))\n",
        "plt.subplot(1,2,1)\n",
        "plot_image(i, predictions[i], y_test, imagenes_dataset)\n",
        "plt.subplot(1,2,2)\n",
        "plot_value_array(i, predictions[i],  y_test)\n",
        "plt.show()"
      ],
      "metadata": {
        "colab": {
          "base_uri": "https://localhost:8080/",
          "height": 211
        },
        "id": "QRLlhoyTJScj",
        "outputId": "b53f1e1a-4057-42cf-b6c4-5805efcb2ff6"
      },
      "execution_count": null,
      "outputs": [
        {
          "output_type": "display_data",
          "data": {
            "text/plain": [
              "<Figure size 432x216 with 2 Axes>"
            ],
            "image/png": "[encoded data removed]"
          },
          "metadata": {
            "needs_background": "light"
          }
        }
      ]
    },
    {
      "cell_type": "code",
      "source": [
        "i = 82\n",
        "plt.figure(figsize=(6,3))\n",
        "plt.subplot(1,2,1)\n",
        "plot_image(i, predictions[i], y_test, imagenes_dataset)\n",
        "plt.subplot(1,2,2)\n",
        "plot_value_array(i, predictions[i],  y_test)\n",
        "plt.show()"
      ],
      "metadata": {
        "colab": {
          "base_uri": "https://localhost:8080/",
          "height": 211
        },
        "id": "-j8_-P6bJjbh",
        "outputId": "9127a839-c75b-41ff-d4eb-6ceb55d4b7e9"
      },
      "execution_count": null,
      "outputs": [
        {
          "output_type": "display_data",
          "data": {
            "text/plain": [
              "<Figure size 432x216 with 2 Axes>"
            ],
            "image/png": "[encoded data removed]"
          },
          "metadata": {
            "needs_background": "light"
          }
        }
      ]
    },
    {
      "cell_type": "code",
      "source": [
        "i = 25\n",
        "plt.figure(figsize=(6,3))\n",
        "plt.subplot(1,2,1)\n",
        "plot_image(i, predictions[i], y_test, imagenes_dataset)\n",
        "plt.subplot(1,2,2)\n",
        "plot_value_array(i, predictions[i],  y_test)\n",
        "plt.show()"
      ],
      "metadata": {
        "colab": {
          "base_uri": "https://localhost:8080/",
          "height": 211
        },
        "id": "cMS4skMfJl9F",
        "outputId": "df451899-3c3e-406f-f082-ab127054014a"
      },
      "execution_count": null,
      "outputs": [
        {
          "output_type": "display_data",
          "data": {
            "text/plain": [
              "<Figure size 432x216 with 2 Axes>"
            ],
            "image/png": "[encoded data removed]"
          },
          "metadata": {
            "needs_background": "light"
          }
        }
      ]
    },
    {
      "cell_type": "code",
      "source": [
        "i = 74\n",
        "plt.figure(figsize=(6,3))\n",
        "plt.subplot(1,2,1)\n",
        "plot_image(i, predictions[i], y_test, imagenes_dataset)\n",
        "plt.subplot(1,2,2)\n",
        "plot_value_array(i, predictions[i],  y_test)\n",
        "plt.show()"
      ],
      "metadata": {
        "colab": {
          "base_uri": "https://localhost:8080/",
          "height": 211
        },
        "id": "QNKjhVoeJxbZ",
        "outputId": "089e4232-993f-4e09-dc74-409ba2548d17"
      },
      "execution_count": null,
      "outputs": [
        {
          "output_type": "display_data",
          "data": {
            "text/plain": [
              "<Figure size 432x216 with 2 Axes>"
            ],
            "image/png": "[encoded data removed]"
          },
          "metadata": {
            "needs_background": "light"
          }
        }
      ]
    },
    {
      "cell_type": "code",
      "source": [
        "i = 57\n",
        "plt.figure(figsize=(6,3))\n",
        "plt.subplot(1,2,1)\n",
        "plot_image(i, predictions[i], y_test, imagenes_dataset)\n",
        "plt.subplot(1,2,2)\n",
        "plot_value_array(i, predictions[i],  y_test)\n",
        "plt.show()"
      ],
      "metadata": {
        "colab": {
          "base_uri": "https://localhost:8080/",
          "height": 211
        },
        "id": "_vPA9YZ9J6pS",
        "outputId": "5ee3f0b8-635f-45e5-fde2-634c9da3051d"
      },
      "execution_count": null,
      "outputs": [
        {
          "output_type": "display_data",
          "data": {
            "text/plain": [
              "<Figure size 432x216 with 2 Axes>"
            ],
            "image/png": "[encoded data removed]"
          },
          "metadata": {
            "needs_background": "light"
          }
        }
      ]
    },
    {
      "cell_type": "code",
      "source": [
        "i = 119\n",
        "plt.figure(figsize=(6,3))\n",
        "plt.subplot(1,2,1)\n",
        "plot_image(i, predictions[i], y_test, imagenes_dataset)\n",
        "plt.subplot(1,2,2)\n",
        "plot_value_array(i, predictions[i],  y_test)\n",
        "plt.show()"
      ],
      "metadata": {
        "colab": {
          "base_uri": "https://localhost:8080/",
          "height": 211
        },
        "id": "iBNPjgrvKBPA",
        "outputId": "a2c65980-2d54-42b2-ddba-0e5655da218b"
      },
      "execution_count": null,
      "outputs": [
        {
          "output_type": "display_data",
          "data": {
            "text/plain": [
              "<Figure size 432x216 with 2 Axes>"
            ],
            "image/png": "[encoded data removed]"
          },
          "metadata": {
            "needs_background": "light"
          }
        }
      ]
    },
    {
      "cell_type": "code",
      "source": [
        "i = 320\n",
        "plt.figure(figsize=(6,3))\n",
        "plt.subplot(1,2,1)\n",
        "plot_image(i, predictions[i], y_test, imagenes_dataset)\n",
        "plt.subplot(1,2,2)\n",
        "plot_value_array(i, predictions[i],  y_test)\n",
        "plt.show()"
      ],
      "metadata": {
        "colab": {
          "base_uri": "https://localhost:8080/",
          "height": 211
        },
        "id": "aR-iYZQ3KDgi",
        "outputId": "d8455922-1159-4695-ba85-428873db878b"
      },
      "execution_count": null,
      "outputs": [
        {
          "output_type": "display_data",
          "data": {
            "text/plain": [
              "<Figure size 432x216 with 2 Axes>"
            ],
            "image/png": "[encoded data removed]"
          },
          "metadata": {
            "needs_background": "light"
          }
        }
      ]
    },
    {
      "cell_type": "code",
      "source": [
        "i = 259\n",
        "plt.figure(figsize=(6,3))\n",
        "plt.subplot(1,2,1)\n",
        "plot_image(i, predictions[i], y_test, imagenes_dataset)\n",
        "plt.subplot(1,2,2)\n",
        "plot_value_array(i, predictions[i],  y_test)\n",
        "plt.show()"
      ],
      "metadata": {
        "colab": {
          "base_uri": "https://localhost:8080/",
          "height": 211
        },
        "id": "RkkmC_CGKKKY",
        "outputId": "03aabecf-9482-4b32-be2e-285f5a6b324c"
      },
      "execution_count": null,
      "outputs": [
        {
          "output_type": "display_data",
          "data": {
            "text/plain": [
              "<Figure size 432x216 with 2 Axes>"
            ],
            "image/png": "[encoded data removed]"
          },
          "metadata": {
            "needs_background": "light"
          }
        }
      ]
    },
    {
      "cell_type": "code",
      "source": [
        "i = 355\n",
        "plt.figure(figsize=(6,3))\n",
        "plt.subplot(1,2,1)\n",
        "plot_image(i, predictions[i], y_test, imagenes_dataset)\n",
        "plt.subplot(1,2,2)\n",
        "plot_value_array(i, predictions[i],  y_test)\n",
        "plt.show()"
      ],
      "metadata": {
        "colab": {
          "base_uri": "https://localhost:8080/",
          "height": 211
        },
        "id": "3BqVfJflKMzR",
        "outputId": "f4c4da5a-ae91-4b3a-d8f6-6ca48cfc89f3"
      },
      "execution_count": null,
      "outputs": [
        {
          "output_type": "display_data",
          "data": {
            "text/plain": [
              "<Figure size 432x216 with 2 Axes>"
            ],
            "image/png": "[encoded data removed]"
          },
          "metadata": {
            "needs_background": "light"
          }
        }
      ]
    }
  ]
}