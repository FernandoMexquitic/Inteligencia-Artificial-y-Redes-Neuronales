{
  "nbformat": 4,
  "nbformat_minor": 0,
  "metadata": {
    "colab": {
      "provenance": [],
      "collapsed_sections": [
        "eK9clGGKt7gr",
        "3plrsxxwtz5x"
      ],
      "include_colab_link": true
    },
    "kernelspec": {
      "name": "python3",
      "display_name": "Python 3"
    },
    "language_info": {
      "name": "python"
    }
  },
  "cells": [
    {
      "cell_type": "markdown",
      "metadata": {
        "id": "view-in-github",
        "colab_type": "text"
      },
      "source": [
        "<a href=\"https://colab.research.google.com/github/FernandoMexquitic/Inteligencia-Artificial-y-Redes-Neuronales/blob/main/PIA_IAyRN_Red1.ipynb\" target=\"_parent\"><img src=\"https://colab.research.google.com/assets/colab-badge.svg\" alt=\"Open In Colab\"/></a>"
      ]
    },
    {
      "cell_type": "markdown",
      "source": [
        "# ***PIA: Entrenamiento de una Red Neuronal Convolucional***\n",
        "#Integrantes:\n",
        "#Angel Fernando Mexquitic Rodriguez  1926098\n",
        "#Devany Anahi Lopez Sanchez 1866278\n",
        "#Angel Eduardo Gonzalez Melendres 1905230 IMTC\n",
        "#Adrián Gonzalez Garza 1841740 IMTC\n",
        "Hora: N1  Grupo:007"
      ],
      "metadata": {
        "id": "_UVf64WeuBIM"
      }
    },
    {
      "cell_type": "code",
      "execution_count": 296,
      "metadata": {
        "id": "9dGWAArgXO2K"
      },
      "outputs": [],
      "source": [
        "# importar librerías\n",
        "import os\n",
        "import glob\n",
        "import cv2\n",
        "import tensorflow as tf\n",
        "from tensorflow import keras\n",
        "from tensorflow.keras import datasets, layers, models\n",
        "import matplotlib.pyplot as plt\n",
        "from sklearn.model_selection import train_test_split\n",
        "import numpy as npy\n",
        "from tensorflow import keras\n"
      ]
    },
    {
      "cell_type": "code",
      "source": [
        "imagenes_dataset = []\n",
        "etiquetas_data = []"
      ],
      "metadata": {
        "id": "2r-OwJKdZV6t"
      },
      "execution_count": 297,
      "outputs": []
    },
    {
      "cell_type": "code",
      "source": [
        "file = '/content/Numeros/0' \n",
        "\n",
        "num = 0\n",
        "\n",
        "for x in glob.iglob(f'{file}/*.png'):\n",
        "  #plt.imshow(x, cmap='gray')\n",
        "  print(x)\n",
        "  test_image = cv2.imread(x, cv2.IMREAD_GRAYSCALE )\n",
        "\n",
        "  # Formato de imagen\n",
        "  img_resized = cv2.resize(test_image, (28,28), interpolation=cv2.INTER_AREA )\n",
        "  img_resized = cv2.bitwise_not(img_resized)\n",
        "\n",
        "  # Guardar imagenes y etiquetas\n",
        "  imagenes_dataset.append(img_resized)\n",
        "  etiquetas_data.append(num)"
      ],
      "metadata": {
        "id": "vi0bXoy5ZXeT",
        "colab": {
          "base_uri": "https://localhost:8080/"
        },
        "outputId": "9fdb6456-1fea-447b-a393-8cb1d7c564e7"
      },
      "execution_count": 298,
      "outputs": [
        {
          "output_type": "stream",
          "name": "stdout",
          "text": [
            "/content/Numeros/0/0.18.png\n",
            "/content/Numeros/0/0.14.png\n",
            "/content/Numeros/0/0.17.png\n",
            "/content/Numeros/0/0.32.png\n",
            "/content/Numeros/0/0.26.png\n",
            "/content/Numeros/0/0.36.png\n",
            "/content/Numeros/0/0.11.png\n",
            "/content/Numeros/0/0.23.png\n",
            "/content/Numeros/0/0.5.png\n",
            "/content/Numeros/0/0.10.png\n",
            "/content/Numeros/0/0.15.png\n",
            "/content/Numeros/0/0.27.png\n",
            "/content/Numeros/0/0.33.png\n",
            "/content/Numeros/0/0.38.png\n",
            "/content/Numeros/0/0.4.png\n",
            "/content/Numeros/0/0.12.png\n",
            "/content/Numeros/0/0.24.png\n",
            "/content/Numeros/0/0.30.png\n",
            "/content/Numeros/0/0.29.png\n",
            "/content/Numeros/0/0.8.png\n",
            "/content/Numeros/0/0.37.png\n",
            "/content/Numeros/0/0.20.png\n",
            "/content/Numeros/0/0.22.png\n",
            "/content/Numeros/0/0.28.png\n",
            "/content/Numeros/0/0.39.png\n",
            "/content/Numeros/0/0.19.png\n",
            "/content/Numeros/0/0.3.png\n",
            "/content/Numeros/0/0.40.png\n",
            "/content/Numeros/0/0.6.png\n",
            "/content/Numeros/0/0.34.png\n",
            "/content/Numeros/0/0.25.png\n",
            "/content/Numeros/0/0.2.png\n",
            "/content/Numeros/0/0.16.png\n",
            "/content/Numeros/0/0.13.png\n",
            "/content/Numeros/0/0.7.png\n",
            "/content/Numeros/0/0.9.png\n",
            "/content/Numeros/0/0.35.png\n",
            "/content/Numeros/0/0.1.png\n",
            "/content/Numeros/0/0.21.png\n",
            "/content/Numeros/0/0.31.png\n"
          ]
        }
      ]
    },
    {
      "cell_type": "code",
      "source": [
        "file = '/content/Numeros/1' \n",
        "\n",
        "num = 1\n",
        "\n",
        "for x in glob.iglob(f'{file}/*.png'):\n",
        "  #plt.imshow(x, cmap='gray')\n",
        "  print(x)\n",
        "  test_image = cv2.imread(x, cv2.IMREAD_GRAYSCALE )\n",
        "\n",
        "  # Formato de imagen\n",
        "  img_resized = cv2.resize(test_image, (28,28), interpolation=cv2.INTER_AREA )\n",
        "  img_resized = cv2.bitwise_not(img_resized)\n",
        "\n",
        "  # Guardar imagenes y etiquetas\n",
        "  imagenes_dataset.append(img_resized)\n",
        "  etiquetas_data.append(num)"
      ],
      "metadata": {
        "id": "1i0xC7mVeN_8",
        "colab": {
          "base_uri": "https://localhost:8080/"
        },
        "outputId": "8055b6ec-84e0-485e-8839-e2cb2873bea8"
      },
      "execution_count": 299,
      "outputs": [
        {
          "output_type": "stream",
          "name": "stdout",
          "text": [
            "/content/Numeros/1/1.16.png\n",
            "/content/Numeros/1/1.10.png\n",
            "/content/Numeros/1/1.26.png\n",
            "/content/Numeros/1/1.39.png\n",
            "/content/Numeros/1/1.25.png\n",
            "/content/Numeros/1/1.36.png\n",
            "/content/Numeros/1/1.1.png\n",
            "/content/Numeros/1/1.17.png\n",
            "/content/Numeros/1/1.30.png\n",
            "/content/Numeros/1/1.22.png\n",
            "/content/Numeros/1/1.18.png\n",
            "/content/Numeros/1/1.14.png\n",
            "/content/Numeros/1/1.27.png\n",
            "/content/Numeros/1/1.32.png\n",
            "/content/Numeros/1/1.7.png\n",
            "/content/Numeros/1/1.19.png\n",
            "/content/Numeros/1/1.9.png\n",
            "/content/Numeros/1/1.37.png\n",
            "/content/Numeros/1/1.13.png\n",
            "/content/Numeros/1/1.6.png\n",
            "/content/Numeros/1/1.2.png\n",
            "/content/Numeros/1/1.5.png\n",
            "/content/Numeros/1/1.3.png\n",
            "/content/Numeros/1/1.4.png\n",
            "/content/Numeros/1/1.33.png\n",
            "/content/Numeros/1/1.28.png\n",
            "/content/Numeros/1/1.11.png\n",
            "/content/Numeros/1/1.38.png\n",
            "/content/Numeros/1/1.29.png\n",
            "/content/Numeros/1/1.12.png\n",
            "/content/Numeros/1/1.8.png\n",
            "/content/Numeros/1/1.23.png\n",
            "/content/Numeros/1/1.20.png\n",
            "/content/Numeros/1/1.35.png\n",
            "/content/Numeros/1/1.24.png\n",
            "/content/Numeros/1/1.21.png\n",
            "/content/Numeros/1/1.31.png\n",
            "/content/Numeros/1/1.15.png\n",
            "/content/Numeros/1/1.40.png\n",
            "/content/Numeros/1/1.34.png\n"
          ]
        }
      ]
    },
    {
      "cell_type": "code",
      "source": [
        "file = '/content/Numeros/2' \n",
        "\n",
        "num = 2\n",
        "\n",
        "for x in glob.iglob(f'{file}/*.png'):\n",
        "  #plt.imshow(x, cmap='gray')\n",
        "  print(x)\n",
        "  test_image = cv2.imread(x, cv2.IMREAD_GRAYSCALE )\n",
        "\n",
        "  # Formato de imagen\n",
        "  img_resized = cv2.resize(test_image, (28,28), interpolation=cv2.INTER_AREA )\n",
        "  img_resized = cv2.bitwise_not(img_resized)\n",
        "\n",
        "  # Guardar imagenes y etiquetas\n",
        "  imagenes_dataset.append(img_resized)\n",
        "  etiquetas_data.append(num)"
      ],
      "metadata": {
        "id": "1Oxz-gnfeN1V",
        "colab": {
          "base_uri": "https://localhost:8080/"
        },
        "outputId": "75707280-2389-46d6-d387-d1eaed77a293"
      },
      "execution_count": 300,
      "outputs": [
        {
          "output_type": "stream",
          "name": "stdout",
          "text": [
            "/content/Numeros/2/2.8.png\n",
            "/content/Numeros/2/2.38.png\n",
            "/content/Numeros/2/2.26.png\n",
            "/content/Numeros/2/2.2.png\n",
            "/content/Numeros/2/2.25.png\n",
            "/content/Numeros/2/2.35.png\n",
            "/content/Numeros/2/2.31.png\n",
            "/content/Numeros/2/2.36.png\n",
            "/content/Numeros/2/2.12.png\n",
            "/content/Numeros/2/2.24.png\n",
            "/content/Numeros/2/2.14.png\n",
            "/content/Numeros/2/2.1.png\n",
            "/content/Numeros/2/2.11.png\n",
            "/content/Numeros/2/2.29.png\n",
            "/content/Numeros/2/2.32.png\n",
            "/content/Numeros/2/2.5.png\n",
            "/content/Numeros/2/2.19.png\n",
            "/content/Numeros/2/2.18.png\n",
            "/content/Numeros/2/2.23.png\n",
            "/content/Numeros/2/2.34.png\n",
            "/content/Numeros/2/2.3.png\n",
            "/content/Numeros/2/2.20.png\n",
            "/content/Numeros/2/2.4.png\n",
            "/content/Numeros/2/2.37.png\n",
            "/content/Numeros/2/2.15.png\n",
            "/content/Numeros/2/2.17.png\n",
            "/content/Numeros/2/2.40.png\n",
            "/content/Numeros/2/2.28.png\n",
            "/content/Numeros/2/2.30.png\n",
            "/content/Numeros/2/2.21.png\n",
            "/content/Numeros/2/2.13.png\n",
            "/content/Numeros/2/2.6.png\n",
            "/content/Numeros/2/2.27.png\n",
            "/content/Numeros/2/2.22.png\n",
            "/content/Numeros/2/2.16.png\n",
            "/content/Numeros/2/2.9.png\n",
            "/content/Numeros/2/2.33.png\n",
            "/content/Numeros/2/2.39.png\n",
            "/content/Numeros/2/2.10.png\n",
            "/content/Numeros/2/2.7.png\n"
          ]
        }
      ]
    },
    {
      "cell_type": "code",
      "source": [
        "file = '/content/Numeros/3' \n",
        "\n",
        "num = 3\n",
        "\n",
        "for x in glob.iglob(f'{file}/*.png'):\n",
        "  #plt.imshow(x, cmap='gray')\n",
        "  print(x)\n",
        "  test_image = cv2.imread(x, cv2.IMREAD_GRAYSCALE )\n",
        "\n",
        "  # Formato de imagen\n",
        "  img_resized = cv2.resize(test_image, (28,28), interpolation=cv2.INTER_AREA )\n",
        "  img_resized = cv2.bitwise_not(img_resized)\n",
        "\n",
        "  # Guardar imagenes y etiquetas\n",
        "  imagenes_dataset.append(img_resized)\n",
        "  etiquetas_data.append(num)"
      ],
      "metadata": {
        "id": "1Qn70BuGeNuf",
        "colab": {
          "base_uri": "https://localhost:8080/"
        },
        "outputId": "69aaef80-461b-4ab8-83a3-b4a02fdd65cf"
      },
      "execution_count": 301,
      "outputs": [
        {
          "output_type": "stream",
          "name": "stdout",
          "text": [
            "/content/Numeros/3/3.25.png\n",
            "/content/Numeros/3/3.23.png\n",
            "/content/Numeros/3/3.18.png\n",
            "/content/Numeros/3/3.21.png\n",
            "/content/Numeros/3/3.37.png\n",
            "/content/Numeros/3/3.3.png\n",
            "/content/Numeros/3/3.7.png\n",
            "/content/Numeros/3/3.9.png\n",
            "/content/Numeros/3/3.15.png\n",
            "/content/Numeros/3/3.2.png\n",
            "/content/Numeros/3/3.24.png\n",
            "/content/Numeros/3/3.11.png\n",
            "/content/Numeros/3/3.17.png\n",
            "/content/Numeros/3/3.34.png\n",
            "/content/Numeros/3/3.14.png\n",
            "/content/Numeros/3/3.33.png\n",
            "/content/Numeros/3/3.39.png\n",
            "/content/Numeros/3/3.6.png\n",
            "/content/Numeros/3/3.10.png\n",
            "/content/Numeros/3/3.29.png\n",
            "/content/Numeros/3/3.30.png\n",
            "/content/Numeros/3/3.32.png\n",
            "/content/Numeros/3/3.16.png\n",
            "/content/Numeros/3/3.8.png\n",
            "/content/Numeros/3/3.22.png\n",
            "/content/Numeros/3/3.19.png\n",
            "/content/Numeros/3/3.40.png\n",
            "/content/Numeros/3/3.5.png\n",
            "/content/Numeros/3/3.13.png\n",
            "/content/Numeros/3/3.36.png\n",
            "/content/Numeros/3/3.31.png\n",
            "/content/Numeros/3/3.12.png\n",
            "/content/Numeros/3/3.35.png\n",
            "/content/Numeros/3/3.38.png\n",
            "/content/Numeros/3/3.1.png\n",
            "/content/Numeros/3/3.27.png\n",
            "/content/Numeros/3/3.20.png\n",
            "/content/Numeros/3/3.26.png\n",
            "/content/Numeros/3/3.4.png\n",
            "/content/Numeros/3/3.28.png\n"
          ]
        }
      ]
    },
    {
      "cell_type": "code",
      "source": [
        "file = '/content/Numeros/4' \n",
        "\n",
        "num = 4\n",
        "\n",
        "for x in glob.iglob(f'{file}/*.png'):\n",
        "  #plt.imshow(x, cmap='gray')\n",
        "  print(x)\n",
        "  test_image = cv2.imread(x, cv2.IMREAD_GRAYSCALE )\n",
        "\n",
        "  # Formato de imagen\n",
        "  img_resized = cv2.resize(test_image, (28,28), interpolation=cv2.INTER_AREA )\n",
        "  img_resized = cv2.bitwise_not(img_resized)\n",
        "\n",
        "  # Guardar imagenes y etiquetas\n",
        "  imagenes_dataset.append(img_resized)\n",
        "  etiquetas_data.append(num)"
      ],
      "metadata": {
        "id": "b67-d_VleNoe",
        "colab": {
          "base_uri": "https://localhost:8080/"
        },
        "outputId": "b3317aba-7efd-4518-8d5c-d0cf010d3a99"
      },
      "execution_count": 302,
      "outputs": [
        {
          "output_type": "stream",
          "name": "stdout",
          "text": [
            "/content/Numeros/4/4.21.png\n",
            "/content/Numeros/4/4.9.png\n",
            "/content/Numeros/4/4.15.png\n",
            "/content/Numeros/4/4.1.png\n",
            "/content/Numeros/4/4.7.png\n",
            "/content/Numeros/4/4.17.png\n",
            "/content/Numeros/4/4.35.png\n",
            "/content/Numeros/4/4.27.png\n",
            "/content/Numeros/4/4.23.png\n",
            "/content/Numeros/4/4.24.png\n",
            "/content/Numeros/4/4.32.png\n",
            "/content/Numeros/4/4.20.png\n",
            "/content/Numeros/4/4.5.png\n",
            "/content/Numeros/4/4.29.png\n",
            "/content/Numeros/4/4.25.png\n",
            "/content/Numeros/4/4.26.png\n",
            "/content/Numeros/4/4.19.png\n",
            "/content/Numeros/4/4.3.png\n",
            "/content/Numeros/4/4.2.png\n",
            "/content/Numeros/4/4.40.png\n",
            "/content/Numeros/4/4.36.png\n",
            "/content/Numeros/4/4.10.png\n",
            "/content/Numeros/4/4.4.png\n",
            "/content/Numeros/4/4.34.png\n",
            "/content/Numeros/4/4.13.png\n",
            "/content/Numeros/4/4.38.png\n",
            "/content/Numeros/4/4.12.png\n",
            "/content/Numeros/4/4.22.png\n",
            "/content/Numeros/4/4.28.png\n",
            "/content/Numeros/4/4.31.png\n",
            "/content/Numeros/4/4.6.png\n",
            "/content/Numeros/4/4.39.png\n",
            "/content/Numeros/4/4.11.png\n",
            "/content/Numeros/4/4.14.png\n",
            "/content/Numeros/4/4.8.png\n",
            "/content/Numeros/4/4.16.png\n",
            "/content/Numeros/4/4.33.png\n",
            "/content/Numeros/4/4.37.png\n",
            "/content/Numeros/4/4.30.png\n",
            "/content/Numeros/4/4.18.png\n"
          ]
        }
      ]
    },
    {
      "cell_type": "code",
      "source": [
        "file = '/content/Numeros/5' \n",
        "\n",
        "num = 5\n",
        "\n",
        "for x in glob.iglob(f'{file}/*.png'):\n",
        "  #plt.imshow(x, cmap='gray')\n",
        "  print(x)\n",
        "  test_image = cv2.imread(x, cv2.IMREAD_GRAYSCALE )\n",
        "\n",
        "  # Formato de imagen\n",
        "  img_resized = cv2.resize(test_image, (28,28), interpolation=cv2.INTER_AREA )\n",
        "  img_resized = cv2.bitwise_not(img_resized)\n",
        "\n",
        "  # Guardar imagenes y etiquetas\n",
        "  imagenes_dataset.append(img_resized)\n",
        "  etiquetas_data.append(num)"
      ],
      "metadata": {
        "id": "oR21Y_SweNiE",
        "colab": {
          "base_uri": "https://localhost:8080/"
        },
        "outputId": "7ed5768b-6420-496c-9111-df521fbd309b"
      },
      "execution_count": 303,
      "outputs": [
        {
          "output_type": "stream",
          "name": "stdout",
          "text": [
            "/content/Numeros/5/5.18.png\n",
            "/content/Numeros/5/5.8.png\n",
            "/content/Numeros/5/5.22.png\n",
            "/content/Numeros/5/5.32.png\n",
            "/content/Numeros/5/5.31.png\n",
            "/content/Numeros/5/5.6.png\n",
            "/content/Numeros/5/5.20.png\n",
            "/content/Numeros/5/5.40.png\n",
            "/content/Numeros/5/5.33.png\n",
            "/content/Numeros/5/5.24.png\n",
            "/content/Numeros/5/5.17.png\n",
            "/content/Numeros/5/5.3.png\n",
            "/content/Numeros/5/5.37.png\n",
            "/content/Numeros/5/5.11.png\n",
            "/content/Numeros/5/5.36.png\n",
            "/content/Numeros/5/5.25.png\n",
            "/content/Numeros/5/5.21.png\n",
            "/content/Numeros/5/5.35.png\n",
            "/content/Numeros/5/5.1.png\n",
            "/content/Numeros/5/5.29.png\n",
            "/content/Numeros/5/5.34.png\n",
            "/content/Numeros/5/5.30.png\n",
            "/content/Numeros/5/5.5.png\n",
            "/content/Numeros/5/5.2.png\n",
            "/content/Numeros/5/5.28.png\n",
            "/content/Numeros/5/5.38.png\n",
            "/content/Numeros/5/5.15.png\n",
            "/content/Numeros/5/5.39.png\n",
            "/content/Numeros/5/5.23.png\n",
            "/content/Numeros/5/5.14.png\n",
            "/content/Numeros/5/5.12.png\n",
            "/content/Numeros/5/5.13.png\n",
            "/content/Numeros/5/5.26.png\n",
            "/content/Numeros/5/5.4.png\n",
            "/content/Numeros/5/5.19.png\n",
            "/content/Numeros/5/5.16.png\n",
            "/content/Numeros/5/5.9.png\n",
            "/content/Numeros/5/5.7.png\n",
            "/content/Numeros/5/5.10.png\n",
            "/content/Numeros/5/5.27.png\n"
          ]
        }
      ]
    },
    {
      "cell_type": "code",
      "source": [
        "file = '/content/Numeros/6' \n",
        "\n",
        "num = 6\n",
        "\n",
        "for x in glob.iglob(f'{file}/*.png'):\n",
        "  #plt.imshow(x, cmap='gray')\n",
        "  print(x)\n",
        "  test_image = cv2.imread(x, cv2.IMREAD_GRAYSCALE )\n",
        "\n",
        "  # Formato de imagen\n",
        "  img_resized = cv2.resize(test_image, (28,28), interpolation=cv2.INTER_AREA )\n",
        "  img_resized = cv2.bitwise_not(img_resized)\n",
        "\n",
        "  # Guardar imagenes y etiquetas\n",
        "  imagenes_dataset.append(img_resized)\n",
        "  etiquetas_data.append(num)"
      ],
      "metadata": {
        "id": "WHBsFP76eNb0",
        "colab": {
          "base_uri": "https://localhost:8080/"
        },
        "outputId": "ad2b17ba-1ae3-4694-b8b2-88c15ae10ae4"
      },
      "execution_count": 304,
      "outputs": [
        {
          "output_type": "stream",
          "name": "stdout",
          "text": [
            "/content/Numeros/6/6.12.png\n",
            "/content/Numeros/6/6.10.png\n",
            "/content/Numeros/6/6.9.png\n",
            "/content/Numeros/6/6.28.png\n",
            "/content/Numeros/6/6.20.png\n",
            "/content/Numeros/6/6.3.png\n",
            "/content/Numeros/6/6.39.png\n",
            "/content/Numeros/6/6.37.png\n",
            "/content/Numeros/6/6.6.png\n",
            "/content/Numeros/6/6.26.png\n",
            "/content/Numeros/6/6.25.png\n",
            "/content/Numeros/6/6.23.png\n",
            "/content/Numeros/6/6.19.png\n",
            "/content/Numeros/6/6.21.png\n",
            "/content/Numeros/6/6.30.png\n",
            "/content/Numeros/6/6.2.png\n",
            "/content/Numeros/6/6.33.png\n",
            "/content/Numeros/6/6.31.png\n",
            "/content/Numeros/6/6.27.png\n",
            "/content/Numeros/6/6.18.png\n",
            "/content/Numeros/6/6.4.png\n",
            "/content/Numeros/6/6.34.png\n",
            "/content/Numeros/6/6.24.png\n",
            "/content/Numeros/6/6.16.png\n",
            "/content/Numeros/6/6.36.png\n",
            "/content/Numeros/6/6.7.png\n",
            "/content/Numeros/6/6.15.png\n",
            "/content/Numeros/6/6.40.png\n",
            "/content/Numeros/6/6.29.png\n",
            "/content/Numeros/6/6.17.png\n",
            "/content/Numeros/6/6.35.png\n",
            "/content/Numeros/6/6.1.png\n",
            "/content/Numeros/6/6.8.png\n",
            "/content/Numeros/6/6.22.png\n",
            "/content/Numeros/6/6.5.png\n",
            "/content/Numeros/6/6.11.png\n",
            "/content/Numeros/6/6.13.png\n",
            "/content/Numeros/6/6.38.png\n",
            "/content/Numeros/6/6.14.png\n",
            "/content/Numeros/6/6.32.png\n"
          ]
        }
      ]
    },
    {
      "cell_type": "code",
      "source": [
        "file = '/content/Numeros/7' \n",
        "\n",
        "num = 7\n",
        "\n",
        "for x in glob.iglob(f'{file}/*.png'):\n",
        "  #plt.imshow(x, cmap='gray')\n",
        "  print(x)\n",
        "  test_image = cv2.imread(x, cv2.IMREAD_GRAYSCALE )\n",
        "\n",
        "  # Formato de imagen\n",
        "  img_resized = cv2.resize(test_image, (28,28), interpolation=cv2.INTER_AREA )\n",
        "  img_resized = cv2.bitwise_not(img_resized)\n",
        "\n",
        "  # Guardar imagenes y etiquetas\n",
        "  imagenes_dataset.append(img_resized)\n",
        "  etiquetas_data.append(num)"
      ],
      "metadata": {
        "id": "CbMy4Vi1eWJJ",
        "colab": {
          "base_uri": "https://localhost:8080/"
        },
        "outputId": "7e6d5dc9-c57c-4638-8976-3576cbbdcf5a"
      },
      "execution_count": 305,
      "outputs": [
        {
          "output_type": "stream",
          "name": "stdout",
          "text": [
            "/content/Numeros/7/7.29.png\n",
            "/content/Numeros/7/7.30.png\n",
            "/content/Numeros/7/7.35.png\n",
            "/content/Numeros/7/7.19.png\n",
            "/content/Numeros/7/7.32.png\n",
            "/content/Numeros/7/7.6.png\n",
            "/content/Numeros/7/7.16.png\n",
            "/content/Numeros/7/7.24.png\n",
            "/content/Numeros/7/7.4.png\n",
            "/content/Numeros/7/7.13.png\n",
            "/content/Numeros/7/7.23.png\n",
            "/content/Numeros/7/7.10.png\n",
            "/content/Numeros/7/7.11.png\n",
            "/content/Numeros/7/7.8.png\n",
            "/content/Numeros/7/7.12.png\n",
            "/content/Numeros/7/7.39.png\n",
            "/content/Numeros/7/7.15.png\n",
            "/content/Numeros/7/7.14.png\n",
            "/content/Numeros/7/7.22.png\n",
            "/content/Numeros/7/7.31.png\n",
            "/content/Numeros/7/7.9.png\n",
            "/content/Numeros/7/7.26.png\n",
            "/content/Numeros/7/7.21.png\n",
            "/content/Numeros/7/7.28.png\n",
            "/content/Numeros/7/7.20.png\n",
            "/content/Numeros/7/7.7.png\n",
            "/content/Numeros/7/7.3.png\n",
            "/content/Numeros/7/7.38.png\n",
            "/content/Numeros/7/7.36.png\n",
            "/content/Numeros/7/7.27.png\n",
            "/content/Numeros/7/7.2.png\n",
            "/content/Numeros/7/7.25.png\n",
            "/content/Numeros/7/7.1.png\n",
            "/content/Numeros/7/7.18.png\n",
            "/content/Numeros/7/7.33.png\n",
            "/content/Numeros/7/7.34.png\n",
            "/content/Numeros/7/7.17.png\n",
            "/content/Numeros/7/7.37.png\n",
            "/content/Numeros/7/7.40.png\n",
            "/content/Numeros/7/7.5.png\n"
          ]
        }
      ]
    },
    {
      "cell_type": "code",
      "source": [
        "file = '/content/Numeros/8' \n",
        "\n",
        "num = 8\n",
        "\n",
        "for x in glob.iglob(f'{file}/*.png'):\n",
        "  #plt.imshow(x, cmap='gray')\n",
        "  print(x)\n",
        "  test_image = cv2.imread(x, cv2.IMREAD_GRAYSCALE )\n",
        "\n",
        "  # Formato de imagen\n",
        "  img_resized = cv2.resize(test_image, (28,28), interpolation=cv2.INTER_AREA )\n",
        "  img_resized = cv2.bitwise_not(img_resized)\n",
        "\n",
        "  # Guardar imagenes y etiquetas\n",
        "  imagenes_dataset.append(img_resized)\n",
        "  etiquetas_data.append(num)"
      ],
      "metadata": {
        "id": "_rzVzpxgeWGT",
        "colab": {
          "base_uri": "https://localhost:8080/"
        },
        "outputId": "22d7b68b-1713-4ee5-d88a-8bb2b53073be"
      },
      "execution_count": 306,
      "outputs": [
        {
          "output_type": "stream",
          "name": "stdout",
          "text": [
            "/content/Numeros/8/8.18.png\n",
            "/content/Numeros/8/8.5.png\n",
            "/content/Numeros/8/8.6.png\n",
            "/content/Numeros/8/8.36.png\n",
            "/content/Numeros/8/8.33.png\n",
            "/content/Numeros/8/8.39.png\n",
            "/content/Numeros/8/8.9.png\n",
            "/content/Numeros/8/8.20.png\n",
            "/content/Numeros/8/8.23.png\n",
            "/content/Numeros/8/8.4.png\n",
            "/content/Numeros/8/8.27.png\n",
            "/content/Numeros/8/8.35.png\n",
            "/content/Numeros/8/8.17.png\n",
            "/content/Numeros/8/8.12.png\n",
            "/content/Numeros/8/8.10.png\n",
            "/content/Numeros/8/8.7.png\n",
            "/content/Numeros/8/8.14.png\n",
            "/content/Numeros/8/8.16.png\n",
            "/content/Numeros/8/8.1.png\n",
            "/content/Numeros/8/8.21.png\n",
            "/content/Numeros/8/8.28.png\n",
            "/content/Numeros/8/8.30.png\n",
            "/content/Numeros/8/8.25.png\n",
            "/content/Numeros/8/8.37.png\n",
            "/content/Numeros/8/8.3.png\n",
            "/content/Numeros/8/8.8.png\n",
            "/content/Numeros/8/8.13.png\n",
            "/content/Numeros/8/8.19.png\n",
            "/content/Numeros/8/8.31.png\n",
            "/content/Numeros/8/8.26.png\n",
            "/content/Numeros/8/8.22.png\n",
            "/content/Numeros/8/8.15.png\n",
            "/content/Numeros/8/8.32.png\n",
            "/content/Numeros/8/8.29.png\n",
            "/content/Numeros/8/8.40.png\n",
            "/content/Numeros/8/8.38.png\n",
            "/content/Numeros/8/8.24.png\n",
            "/content/Numeros/8/8.11.png\n",
            "/content/Numeros/8/8.2.png\n",
            "/content/Numeros/8/8.34.png\n"
          ]
        }
      ]
    },
    {
      "cell_type": "code",
      "source": [
        "file = '/content/Numeros/9' \n",
        "\n",
        "num = 9\n",
        "\n",
        "for x in glob.iglob(f'{file}/*.png'):\n",
        "  #plt.imshow(x, cmap='gray')\n",
        "  print(x)\n",
        "  test_image = cv2.imread(x, cv2.IMREAD_GRAYSCALE )\n",
        "\n",
        "  # Formato de imagen\n",
        "  img_resized = cv2.resize(test_image, (28,28), interpolation=cv2.INTER_AREA )\n",
        "  img_resized = cv2.bitwise_not(img_resized)\n",
        "\n",
        "  # Guardar imagenes y etiquetas\n",
        "  imagenes_dataset.append(img_resized)\n",
        "  etiquetas_data.append(num)"
      ],
      "metadata": {
        "id": "ydHX1gg1eWC3",
        "colab": {
          "base_uri": "https://localhost:8080/"
        },
        "outputId": "3928339c-1c6f-41d7-dd52-f25cf0c2676e"
      },
      "execution_count": 307,
      "outputs": [
        {
          "output_type": "stream",
          "name": "stdout",
          "text": [
            "/content/Numeros/9/9.11.png\n",
            "/content/Numeros/9/9.3.png\n",
            "/content/Numeros/9/9.33.png\n",
            "/content/Numeros/9/9.35.png\n",
            "/content/Numeros/9/9.4.png\n",
            "/content/Numeros/9/9.22.png\n",
            "/content/Numeros/9/9.28.png\n",
            "/content/Numeros/9/9.7.png\n",
            "/content/Numeros/9/9.18.png\n",
            "/content/Numeros/9/9.8.png\n",
            "/content/Numeros/9/9.20.png\n",
            "/content/Numeros/9/9.9.png\n",
            "/content/Numeros/9/9.14.png\n",
            "/content/Numeros/9/9.16.png\n",
            "/content/Numeros/9/9.1.png\n",
            "/content/Numeros/9/9.31.png\n",
            "/content/Numeros/9/9.29.png\n",
            "/content/Numeros/9/9.30.png\n",
            "/content/Numeros/9/9.27.png\n",
            "/content/Numeros/9/9.38.png\n",
            "/content/Numeros/9/9.40.png\n",
            "/content/Numeros/9/9.23.png\n",
            "/content/Numeros/9/9.19.png\n",
            "/content/Numeros/9/9.10.png\n",
            "/content/Numeros/9/9.26.png\n",
            "/content/Numeros/9/9.25.png\n",
            "/content/Numeros/9/9.5.png\n",
            "/content/Numeros/9/9.24.png\n",
            "/content/Numeros/9/9.39.png\n",
            "/content/Numeros/9/9.32.png\n",
            "/content/Numeros/9/9.36.png\n",
            "/content/Numeros/9/9.15.png\n",
            "/content/Numeros/9/9.13.png\n",
            "/content/Numeros/9/9.34.png\n",
            "/content/Numeros/9/9.17.png\n",
            "/content/Numeros/9/9.37.png\n",
            "/content/Numeros/9/9.21.png\n",
            "/content/Numeros/9/9.12.png\n",
            "/content/Numeros/9/9.2.png\n",
            "/content/Numeros/9/9.6.png\n"
          ]
        }
      ]
    },
    {
      "cell_type": "code",
      "source": [
        "len(imagenes_dataset) "
      ],
      "metadata": {
        "colab": {
          "base_uri": "https://localhost:8080/"
        },
        "id": "L__E1Fh0eNUG",
        "outputId": "ebacacea-dcf8-4ca6-e0e7-cc3a129859c3"
      },
      "execution_count": 308,
      "outputs": [
        {
          "output_type": "execute_result",
          "data": {
            "text/plain": [
              "400"
            ]
          },
          "metadata": {},
          "execution_count": 308
        }
      ]
    },
    {
      "cell_type": "code",
      "source": [
        "len(etiquetas_data)"
      ],
      "metadata": {
        "colab": {
          "base_uri": "https://localhost:8080/"
        },
        "id": "OEeqdochk7zU",
        "outputId": "8af0006d-90e7-41cc-f86b-04b16be849b6"
      },
      "execution_count": 309,
      "outputs": [
        {
          "output_type": "execute_result",
          "data": {
            "text/plain": [
              "400"
            ]
          },
          "metadata": {},
          "execution_count": 309
        }
      ]
    },
    {
      "cell_type": "code",
      "source": [
        "train_x, test_x, train_y, test_y = train_test_split(imagenes_dataset, etiquetas_data, test_size=0.20, random_state=42)"
      ],
      "metadata": {
        "id": "aN4y_hAtgktu"
      },
      "execution_count": 310,
      "outputs": []
    },
    {
      "cell_type": "code",
      "source": [
        "len(train_x)"
      ],
      "metadata": {
        "colab": {
          "base_uri": "https://localhost:8080/"
        },
        "id": "Cf9Qkbn3gknE",
        "outputId": "bf0c9fce-0fab-4381-c71b-76ff26fb8587"
      },
      "execution_count": 311,
      "outputs": [
        {
          "output_type": "execute_result",
          "data": {
            "text/plain": [
              "320"
            ]
          },
          "metadata": {},
          "execution_count": 311
        }
      ]
    },
    {
      "cell_type": "code",
      "source": [
        "plt.imshow(train_x [90], cmap='gray')"
      ],
      "metadata": {
        "colab": {
          "base_uri": "https://localhost:8080/",
          "height": 282
        },
        "id": "nv_KQ_1mlPqL",
        "outputId": "727100fc-87b0-4d20-fc17-156103ed71f9"
      },
      "execution_count": 312,
      "outputs": [
        {
          "output_type": "execute_result",
          "data": {
            "text/plain": [
              "<matplotlib.image.AxesImage at 0x7fc738511990>"
            ]
          },
          "metadata": {},
          "execution_count": 312
        },
        {
          "output_type": "display_data",
          "data": {
            "text/plain": [
              "<Figure size 432x288 with 1 Axes>"
            ],
            "image/png": "[encoded data removed]"
          },
          "metadata": {
            "needs_background": "light"
          }
        }
      ]
    },
    {
      "cell_type": "code",
      "source": [
        "print(train_y[90]) "
      ],
      "metadata": {
        "colab": {
          "base_uri": "https://localhost:8080/"
        },
        "id": "Wnw6nKMWmN6D",
        "outputId": "2370c3ad-c80c-47e6-bdb6-fdfa11be39aa"
      },
      "execution_count": 313,
      "outputs": [
        {
          "output_type": "stream",
          "name": "stdout",
          "text": [
            "2\n"
          ]
        }
      ]
    },
    {
      "cell_type": "code",
      "source": [
        "train_x = npy.array(train_x)\n",
        "test_x = npy.array(test_x)\n",
        "train_y = npy.array(train_y)\n",
        "test_y = npy.array(test_y)"
      ],
      "metadata": {
        "id": "dVhSOZB5mfz8"
      },
      "execution_count": 314,
      "outputs": []
    },
    {
      "cell_type": "code",
      "source": [
        "train_x.shape"
      ],
      "metadata": {
        "colab": {
          "base_uri": "https://localhost:8080/"
        },
        "id": "4U6RsPiKoo1V",
        "outputId": "006790a1-abea-4303-cbb6-c008773f2b02"
      },
      "execution_count": 315,
      "outputs": [
        {
          "output_type": "execute_result",
          "data": {
            "text/plain": [
              "(320, 28, 28)"
            ]
          },
          "metadata": {},
          "execution_count": 315
        }
      ]
    },
    {
      "cell_type": "code",
      "source": [
        "test_x.shape"
      ],
      "metadata": {
        "colab": {
          "base_uri": "https://localhost:8080/"
        },
        "id": "Edtu6jYUxny7",
        "outputId": "d56c7adf-9aea-42a7-898e-99b047cd7338"
      },
      "execution_count": 316,
      "outputs": [
        {
          "output_type": "execute_result",
          "data": {
            "text/plain": [
              "(80, 28, 28)"
            ]
          },
          "metadata": {},
          "execution_count": 316
        }
      ]
    },
    {
      "cell_type": "code",
      "source": [
        "len(train_y)\n"
      ],
      "metadata": {
        "colab": {
          "base_uri": "https://localhost:8080/"
        },
        "id": "NR_49BGVossu",
        "outputId": "5d804db3-012f-4559-a6ca-d0ef4c18fb3e"
      },
      "execution_count": 317,
      "outputs": [
        {
          "output_type": "execute_result",
          "data": {
            "text/plain": [
              "320"
            ]
          },
          "metadata": {},
          "execution_count": 317
        }
      ]
    },
    {
      "cell_type": "code",
      "source": [
        "train_y"
      ],
      "metadata": {
        "colab": {
          "base_uri": "https://localhost:8080/"
        },
        "id": "oJBun0d4ptNr",
        "outputId": "e86a96b4-e11d-4ef7-8c85-c3368b61ffdc"
      },
      "execution_count": 318,
      "outputs": [
        {
          "output_type": "execute_result",
          "data": {
            "text/plain": [
              "array([0, 0, 5, 6, 6, 1, 6, 7, 2, 2, 5, 8, 2, 5, 4, 7, 9, 9, 5, 1, 6, 2,\n",
              "       0, 1, 3, 0, 0, 3, 8, 8, 3, 9, 7, 9, 7, 1, 1, 7, 7, 7, 3, 2, 0, 8,\n",
              "       0, 4, 8, 8, 4, 6, 7, 3, 6, 4, 2, 4, 5, 6, 5, 7, 0, 3, 7, 3, 4, 7,\n",
              "       1, 2, 4, 9, 0, 8, 6, 3, 0, 4, 2, 2, 7, 9, 9, 5, 7, 4, 8, 2, 9, 4,\n",
              "       3, 5, 2, 1, 3, 2, 3, 8, 2, 5, 1, 0, 0, 3, 3, 4, 1, 4, 8, 5, 7, 4,\n",
              "       3, 3, 9, 2, 8, 8, 8, 8, 8, 7, 4, 5, 7, 5, 7, 3, 0, 0, 8, 4, 5, 2,\n",
              "       4, 8, 7, 2, 9, 6, 9, 7, 9, 4, 6, 3, 3, 4, 4, 9, 0, 5, 2, 5, 5, 0,\n",
              "       3, 8, 5, 9, 9, 8, 9, 3, 1, 8, 0, 2, 9, 2, 6, 7, 3, 6, 4, 7, 1, 9,\n",
              "       1, 2, 6, 4, 3, 0, 0, 0, 4, 3, 7, 6, 5, 2, 1, 6, 7, 7, 4, 1, 7, 5,\n",
              "       6, 8, 0, 6, 8, 2, 5, 8, 5, 4, 2, 5, 1, 1, 0, 6, 5, 8, 0, 7, 5, 6,\n",
              "       7, 4, 9, 3, 1, 3, 3, 0, 1, 7, 0, 3, 1, 9, 8, 5, 6, 8, 5, 5, 5, 7,\n",
              "       9, 6, 9, 9, 7, 6, 5, 4, 1, 5, 4, 7, 6, 2, 1, 0, 1, 2, 5, 0, 6, 2,\n",
              "       8, 1, 8, 6, 6, 0, 7, 2, 6, 4, 8, 9, 3, 7, 9, 7, 6, 1, 1, 4, 4, 9,\n",
              "       4, 4, 1, 1, 8, 5, 6, 0, 7, 4, 6, 4, 7, 8, 6, 7, 3, 3, 3, 8, 2, 9,\n",
              "       2, 8, 5, 3, 9, 0, 4, 1, 2, 6, 8, 2])"
            ]
          },
          "metadata": {},
          "execution_count": 318
        }
      ]
    },
    {
      "cell_type": "code",
      "source": [
        "train_x"
      ],
      "metadata": {
        "colab": {
          "base_uri": "https://localhost:8080/"
        },
        "id": "bphhyDPRQw2v",
        "outputId": "1a1d6934-8ee6-4a29-cd8d-7c2747826a75"
      },
      "execution_count": 319,
      "outputs": [
        {
          "output_type": "execute_result",
          "data": {
            "text/plain": [
              "array([[[255, 255, 255, ..., 255, 255, 255],\n",
              "        [255, 255, 255, ..., 255, 255, 255],\n",
              "        [255, 255, 255, ..., 255, 255, 255],\n",
              "        ...,\n",
              "        [255, 255, 255, ..., 255, 255, 255],\n",
              "        [255, 255, 255, ..., 255, 255, 255],\n",
              "        [255, 255, 255, ..., 255, 255, 255]],\n",
              "\n",
              "       [[255, 255, 255, ..., 255, 255, 255],\n",
              "        [255, 255, 255, ..., 255, 255, 255],\n",
              "        [255, 255, 255, ..., 255, 255, 255],\n",
              "        ...,\n",
              "        [255, 255, 255, ..., 255, 255, 255],\n",
              "        [255, 255, 255, ..., 255, 255, 255],\n",
              "        [255, 255, 255, ..., 255, 255, 255]],\n",
              "\n",
              "       [[255, 255, 255, ..., 255, 255, 255],\n",
              "        [255, 255, 255, ..., 255, 255, 255],\n",
              "        [255, 255, 255, ..., 255, 255, 255],\n",
              "        ...,\n",
              "        [255, 255, 255, ..., 255, 255, 255],\n",
              "        [255, 255, 255, ..., 255, 255, 255],\n",
              "        [255, 255, 255, ..., 255, 255, 255]],\n",
              "\n",
              "       ...,\n",
              "\n",
              "       [[255, 255, 255, ..., 255, 255, 255],\n",
              "        [255, 255, 255, ..., 255, 255, 255],\n",
              "        [255, 255, 255, ..., 255, 255, 255],\n",
              "        ...,\n",
              "        [255, 255, 255, ..., 255, 255, 255],\n",
              "        [255, 255, 255, ..., 255, 255, 255],\n",
              "        [255, 255, 255, ..., 255, 255, 255]],\n",
              "\n",
              "       [[255, 255, 255, ..., 255, 255, 255],\n",
              "        [255, 255, 255, ..., 255, 255, 255],\n",
              "        [255, 255, 255, ..., 255, 255, 255],\n",
              "        ...,\n",
              "        [255, 255, 255, ..., 255, 255, 255],\n",
              "        [255, 255, 255, ..., 255, 255, 255],\n",
              "        [255, 255, 255, ..., 255, 255, 255]],\n",
              "\n",
              "       [[255, 255, 255, ..., 255, 255, 255],\n",
              "        [255, 255, 255, ..., 255, 255, 255],\n",
              "        [255, 255, 255, ..., 255, 255, 255],\n",
              "        ...,\n",
              "        [255, 255, 255, ..., 255, 255, 255],\n",
              "        [255, 255, 255, ..., 255, 255, 255],\n",
              "        [255, 255, 255, ..., 255, 255, 255]]], dtype=uint8)"
            ]
          },
          "metadata": {},
          "execution_count": 319
        }
      ]
    },
    {
      "cell_type": "code",
      "source": [
        "len(test_y)"
      ],
      "metadata": {
        "colab": {
          "base_uri": "https://localhost:8080/"
        },
        "id": "rE1cPjT2osoK",
        "outputId": "e54cb5f8-d48d-4052-e3c2-235ea4b0450d"
      },
      "execution_count": 320,
      "outputs": [
        {
          "output_type": "execute_result",
          "data": {
            "text/plain": [
              "80"
            ]
          },
          "metadata": {},
          "execution_count": 320
        }
      ]
    },
    {
      "cell_type": "code",
      "source": [
        "test_y"
      ],
      "metadata": {
        "colab": {
          "base_uri": "https://localhost:8080/"
        },
        "id": "wA3UXmCCoslM",
        "outputId": "1b3f06dd-20ab-4070-c34a-07541a61fe2f"
      },
      "execution_count": 321,
      "outputs": [
        {
          "output_type": "execute_result",
          "data": {
            "text/plain": [
              "array([5, 7, 0, 5, 2, 2, 8, 2, 6, 3, 0, 9, 1, 1, 3, 1, 6, 9, 5, 9, 1, 0,\n",
              "       9, 6, 0, 9, 2, 5, 6, 2, 9, 4, 6, 1, 5, 2, 2, 8, 3, 3, 9, 1, 1, 0,\n",
              "       2, 9, 3, 4, 0, 4, 1, 8, 8, 1, 9, 0, 5, 4, 0, 3, 3, 7, 6, 1, 2, 0,\n",
              "       8, 6, 9, 1, 8, 3, 0, 1, 9, 6, 5, 9, 4, 7])"
            ]
          },
          "metadata": {},
          "execution_count": 321
        }
      ]
    },
    {
      "cell_type": "code",
      "source": [
        "class_names = ['0', '1', '2', '3', '4', '5', '6', '7', '8', '9']"
      ],
      "metadata": {
        "id": "MebC0zLoCNIZ"
      },
      "execution_count": 322,
      "outputs": []
    },
    {
      "cell_type": "code",
      "source": [
        "#Normalización de valores de pixeles.\n",
        "\n",
        "train_x = train_x / 255.0\n",
        "test_x = test_x / 255.0"
      ],
      "metadata": {
        "id": "cSgLGp-Yoovc"
      },
      "execution_count": 323,
      "outputs": []
    },
    {
      "cell_type": "code",
      "source": [
        "plt.figure(figsize=(10,10))\n",
        "for i in range(10):\n",
        "    plt.subplot(5,5,i+1)\n",
        "    plt.xticks([])\n",
        "    plt.yticks([])\n",
        "    plt.grid(False)\n",
        "    plt.imshow(npy.squeeze(train_x[i]), cmap=plt.cm.binary)\n",
        "    plt.xlabel(class_names[train_y[i]])\n",
        "plt.show()"
      ],
      "metadata": {
        "colab": {
          "base_uri": "https://localhost:8080/",
          "height": 251
        },
        "id": "b7kRtg26wEbu",
        "outputId": "9ed32e00-5171-4f1d-85c2-fc361ebfe550"
      },
      "execution_count": 326,
      "outputs": [
        {
          "output_type": "display_data",
          "data": {
            "text/plain": [
              "<Figure size 720x720 with 10 Axes>"
            ],
            "image/png": "[encoded data removed]"
          },
          "metadata": {}
        }
      ]
    },
    {
      "cell_type": "markdown",
      "source": [
        "## Estructura y entrenamiento de Red Neuronal Artificial Convolusional (RNAC)"
      ],
      "metadata": {
        "id": "eK9clGGKt7gr"
      }
    },
    {
      "cell_type": "code",
      "source": [
        "# Parte convolusional de la RNAC\n",
        "\n",
        "model = models.Sequential()\n",
        "model.add(layers.Conv2D(32, (3, 3), activation='relu', input_shape=(28, 28, 3)))\n",
        "model.add(layers.MaxPooling2D((2, 2)))\n",
        "model.add(layers.Conv2D(64, (3, 3), activation='relu'))\n",
        "model.add(layers.MaxPooling2D((2, 2)))\n",
        "model.add(layers.Conv2D(64, (3, 3), activation='relu'))"
      ],
      "metadata": {
        "id": "x42CN-vZoopb"
      },
      "execution_count": 327,
      "outputs": []
    },
    {
      "cell_type": "code",
      "source": [
        "# Parte de clasificación\n",
        "model = keras.Sequential([\n",
        "    keras.layers.Flatten(input_shape=(28, 28)),\n",
        "    keras.layers.Dense(128, activation='relu'),\n",
        "    keras.layers.Dense(10, activation='softmax')\n",
        "])"
      ],
      "metadata": {
        "id": "boHLygITtk6c"
      },
      "execution_count": 328,
      "outputs": []
    },
    {
      "cell_type": "code",
      "source": [
        "# Compliación del modelo: características\n",
        "model.compile(optimizer='adam',\n",
        "              loss='sparse_categorical_crossentropy',\n",
        "              metrics=['accuracy'])"
      ],
      "metadata": {
        "id": "iEZkbFYTx6U0"
      },
      "execution_count": 329,
      "outputs": []
    },
    {
      "cell_type": "code",
      "source": [
        "# Entrenamiento de la RNAC\n",
        "history = model.fit(train_x, train_y, epochs=10, validation_data=(test_x, test_y))"
      ],
      "metadata": {
        "colab": {
          "base_uri": "https://localhost:8080/"
        },
        "id": "fWr-qCBC8v3R",
        "outputId": "a4789cd1-8b3f-4925-f012-f5afe4c8c559"
      },
      "execution_count": 346,
      "outputs": [
        {
          "output_type": "stream",
          "name": "stdout",
          "text": [
            "Epoch 1/10\n",
            "10/10 [==============================] - 0s 23ms/step - loss: 0.6240 - accuracy: 0.8719 - val_loss: 1.1027 - val_accuracy: 0.6500\n",
            "Epoch 2/10\n",
            "10/10 [==============================] - 0s 27ms/step - loss: 0.6125 - accuracy: 0.8625 - val_loss: 1.0100 - val_accuracy: 0.7000\n",
            "Epoch 3/10\n",
            "10/10 [==============================] - 0s 27ms/step - loss: 0.5912 - accuracy: 0.8656 - val_loss: 0.9688 - val_accuracy: 0.7500\n",
            "Epoch 4/10\n",
            "10/10 [==============================] - 0s 22ms/step - loss: 0.6733 - accuracy: 0.8313 - val_loss: 1.0060 - val_accuracy: 0.7125\n",
            "Epoch 5/10\n",
            "10/10 [==============================] - 0s 24ms/step - loss: 0.6594 - accuracy: 0.8438 - val_loss: 1.0941 - val_accuracy: 0.6625\n",
            "Epoch 6/10\n",
            "10/10 [==============================] - 0s 22ms/step - loss: 0.5994 - accuracy: 0.8687 - val_loss: 0.9815 - val_accuracy: 0.7000\n",
            "Epoch 7/10\n",
            "10/10 [==============================] - 0s 24ms/step - loss: 0.5756 - accuracy: 0.8469 - val_loss: 1.0065 - val_accuracy: 0.7500\n",
            "Epoch 8/10\n",
            "10/10 [==============================] - 0s 28ms/step - loss: 0.5547 - accuracy: 0.9062 - val_loss: 0.9468 - val_accuracy: 0.7250\n",
            "Epoch 9/10\n",
            "10/10 [==============================] - 0s 27ms/step - loss: 0.5611 - accuracy: 0.8938 - val_loss: 0.9512 - val_accuracy: 0.7500\n",
            "Epoch 10/10\n",
            "10/10 [==============================] - 0s 24ms/step - loss: 0.5483 - accuracy: 0.8906 - val_loss: 1.0771 - val_accuracy: 0.7375\n"
          ]
        }
      ]
    },
    {
      "cell_type": "markdown",
      "source": [
        "## Resultados de exactitud de la RNAC"
      ],
      "metadata": {
        "id": "3plrsxxwtz5x"
      }
    },
    {
      "cell_type": "code",
      "source": [
        "#Gráfica con la diferencia de valores de exactitud del entrenamiento y la validación. \n",
        "\n",
        "plt.plot(history.history['accuracy'], label='accuracy')\n",
        "plt.plot(history.history['val_accuracy'], label = 'val_accuracy')\n",
        "plt.xlabel('Epoch')\n",
        "plt.ylabel('Accuracy')\n",
        "plt.ylim([0.4, 1])\n",
        "plt.xlim([-1, 11])\n",
        "plt.legend(loc='lower right')\n",
        "\n",
        "test_loss, test_acc = model.evaluate(test_x,  test_y, verbose=2)"
      ],
      "metadata": {
        "id": "giV7nLzbtxWO",
        "colab": {
          "base_uri": "https://localhost:8080/",
          "height": 300
        },
        "outputId": "f17b95ef-e442-4956-8495-11e722e1a4ef"
      },
      "execution_count": 349,
      "outputs": [
        {
          "output_type": "stream",
          "name": "stdout",
          "text": [
            "3/3 - 0s - loss: 1.0771 - accuracy: 0.7375 - 21ms/epoch - 7ms/step\n"
          ]
        },
        {
          "output_type": "display_data",
          "data": {
            "text/plain": [
              "<Figure size 432x288 with 1 Axes>"
            ],
            "image/png": "[encoded data removed]"
          },
          "metadata": {
            "needs_background": "light"
          }
        }
      ]
    },
    {
      "cell_type": "markdown",
      "source": [
        "# Predicciones con la RNAC entrenada."
      ],
      "metadata": {
        "id": "PHF8yHZA_FXw"
      }
    },
    {
      "cell_type": "code",
      "source": [
        "predictions = model.predict(test_x)"
      ],
      "metadata": {
        "colab": {
          "base_uri": "https://localhost:8080/"
        },
        "id": "XNuJUZuS_Gw7",
        "outputId": "cc3ba8e4-358f-454e-e69c-5fcb25b7fa93"
      },
      "execution_count": 350,
      "outputs": [
        {
          "output_type": "stream",
          "name": "stdout",
          "text": [
            "3/3 [==============================] - 0s 3ms/step\n"
          ]
        }
      ]
    },
    {
      "cell_type": "code",
      "source": [
        "predictions[0]"
      ],
      "metadata": {
        "colab": {
          "base_uri": "https://localhost:8080/"
        },
        "id": "9giLyB92_LMR",
        "outputId": "dcc895ae-c245-4f15-cebe-72f3391c8083"
      },
      "execution_count": 351,
      "outputs": [
        {
          "output_type": "execute_result",
          "data": {
            "text/plain": [
              "array([1.5302148e-03, 2.6557935e-04, 2.6662033e-03, 3.8373009e-03,\n",
              "       8.2751864e-04, 6.1416936e-01, 3.5225207e-01, 8.7654524e-05,\n",
              "       2.3693539e-02, 6.7060156e-04], dtype=float32)"
            ]
          },
          "metadata": {},
          "execution_count": 351
        }
      ]
    },
    {
      "cell_type": "code",
      "source": [
        "npy.argmax(predictions[0])"
      ],
      "metadata": {
        "colab": {
          "base_uri": "https://localhost:8080/"
        },
        "id": "ZfGtXUQj_ODB",
        "outputId": "757a2125-e974-46d1-f665-b7dbe024f2c7"
      },
      "execution_count": 352,
      "outputs": [
        {
          "output_type": "execute_result",
          "data": {
            "text/plain": [
              "5"
            ]
          },
          "metadata": {},
          "execution_count": 352
        }
      ]
    },
    {
      "cell_type": "code",
      "source": [
        "test_y[0]"
      ],
      "metadata": {
        "colab": {
          "base_uri": "https://localhost:8080/"
        },
        "id": "cwBVAdoG_Z0D",
        "outputId": "0e68a701-b135-47a2-c8ce-cbc423d98651"
      },
      "execution_count": 353,
      "outputs": [
        {
          "output_type": "execute_result",
          "data": {
            "text/plain": [
              "5"
            ]
          },
          "metadata": {},
          "execution_count": 353
        }
      ]
    },
    {
      "cell_type": "code",
      "source": [
        "from pandas.core.arrays.timedeltas import NpDtype\n",
        "def plot_image(i, predictions_array, true_label, img):\n",
        "  predictions_array, true_label, img = predictions_array, true_label[i], img[i]\n",
        "  plt.grid(False)\n",
        "  plt.xticks([])\n",
        "  plt.yticks([])\n",
        "\n",
        "  plt.imshow(img, cmap=plt.cm.binary)\n",
        "\n",
        "  predicted_label = npy.argmax(predictions_array)\n",
        "  if predicted_label == true_label:\n",
        "    color = 'blue'\n",
        "  else:\n",
        "    color = 'red'\n",
        "\n",
        "  plt.xlabel(\"{} {:2.0f}% ({})\".format(class_names[predicted_label],\n",
        "                                100*npy.max(predictions_array),\n",
        "                                class_names[true_label]),\n",
        "                                color=color)\n",
        "\n",
        "def plot_value_array(i, predictions_array, true_label):\n",
        "  predictions_array, true_label = predictions_array, true_label[i]\n",
        "  plt.grid(False)\n",
        "  plt.xticks(range(10))\n",
        "  plt.yticks([])\n",
        "  thisplot = plt.bar(range(10), predictions_array, color=\"#777777\")\n",
        "  plt.ylim([0, 1])\n",
        "  predicted_label = npy.argmax(predictions_array)\n",
        "\n",
        "  thisplot[predicted_label].set_color('red')\n",
        "  thisplot[true_label].set_color('blue')"
      ],
      "metadata": {
        "id": "YLGDsZxs_gFI"
      },
      "execution_count": 354,
      "outputs": []
    },
    {
      "cell_type": "code",
      "source": [
        "i = 0\n",
        "plt.figure(figsize=(6,3))\n",
        "plt.subplot(1,2,1)\n",
        "plot_image(i, predictions[i], test_y, test_x)\n",
        "plt.subplot(1,2,2)\n",
        "plot_value_array(i, predictions[i],  test_y)\n",
        "plt.show()"
      ],
      "metadata": {
        "colab": {
          "base_uri": "https://localhost:8080/",
          "height": 211
        },
        "id": "8_C7oRGO_qiA",
        "outputId": "78856336-c366-411a-9cc5-cdde90d490d9"
      },
      "execution_count": 355,
      "outputs": [
        {
          "output_type": "display_data",
          "data": {
            "text/plain": [
              "<Figure size 432x216 with 2 Axes>"
            ],
            "image/png": "[encoded data removed]"
          },
          "metadata": {
            "needs_background": "light"
          }
        }
      ]
    },
    {
      "cell_type": "code",
      "source": [
        "i = 1\n",
        "plt.figure(figsize=(6,3))\n",
        "plt.subplot(1,2,1)\n",
        "plot_image(i, predictions[i], test_y, test_x)\n",
        "plt.subplot(1,2,2)\n",
        "plot_value_array(i, predictions[i],  test_y)\n",
        "plt.show()"
      ],
      "metadata": {
        "colab": {
          "base_uri": "https://localhost:8080/",
          "height": 211
        },
        "id": "d5hbd3kj-MSp",
        "outputId": "3e7fefb5-e6e2-4925-cdc6-17cec9e46fdd"
      },
      "execution_count": 356,
      "outputs": [
        {
          "output_type": "display_data",
          "data": {
            "text/plain": [
              "<Figure size 432x216 with 2 Axes>"
            ],
            "image/png": "[encoded data removed]"
          },
          "metadata": {
            "needs_background": "light"
          }
        }
      ]
    },
    {
      "cell_type": "code",
      "source": [
        "i = 2\n",
        "plt.figure(figsize=(6,3))\n",
        "plt.subplot(1,2,1)\n",
        "plot_image(i, predictions[i], test_y, test_x)\n",
        "plt.subplot(1,2,2)\n",
        "plot_value_array(i, predictions[i],  test_y)\n",
        "plt.show()"
      ],
      "metadata": {
        "colab": {
          "base_uri": "https://localhost:8080/",
          "height": 211
        },
        "id": "Tojks7Yt-OOX",
        "outputId": "3c166d4f-da54-4ca8-e509-4fdd3e93c44c"
      },
      "execution_count": 357,
      "outputs": [
        {
          "output_type": "display_data",
          "data": {
            "text/plain": [
              "<Figure size 432x216 with 2 Axes>"
            ],
            "image/png": "[encoded data removed]"
          },
          "metadata": {
            "needs_background": "light"
          }
        }
      ]
    },
    {
      "cell_type": "code",
      "source": [
        "i = 3\n",
        "plt.figure(figsize=(6,3))\n",
        "plt.subplot(1,2,1)\n",
        "plot_image(i, predictions[i], test_y, test_x)\n",
        "plt.subplot(1,2,2)\n",
        "plot_value_array(i, predictions[i],  test_y)\n",
        "plt.show()"
      ],
      "metadata": {
        "colab": {
          "base_uri": "https://localhost:8080/",
          "height": 211
        },
        "id": "tUMJBfOo-QBM",
        "outputId": "ee93c7c0-c964-4e85-c402-e560eccf0043"
      },
      "execution_count": 358,
      "outputs": [
        {
          "output_type": "display_data",
          "data": {
            "text/plain": [
              "<Figure size 432x216 with 2 Axes>"
            ],
            "image/png": "[encoded data removed]"
          },
          "metadata": {
            "needs_background": "light"
          }
        }
      ]
    },
    {
      "cell_type": "code",
      "source": [
        "i = 4\n",
        "plt.figure(figsize=(6,3))\n",
        "plt.subplot(1,2,1)\n",
        "plot_image(i, predictions[i], test_y, test_x)\n",
        "plt.subplot(1,2,2)\n",
        "plot_value_array(i, predictions[i],  test_y)\n",
        "plt.show()"
      ],
      "metadata": {
        "colab": {
          "base_uri": "https://localhost:8080/",
          "height": 211
        },
        "id": "RgnFrjv5-SZW",
        "outputId": "af8f082c-9fbe-4314-bb16-7c65106a22af"
      },
      "execution_count": 359,
      "outputs": [
        {
          "output_type": "display_data",
          "data": {
            "text/plain": [
              "<Figure size 432x216 with 2 Axes>"
            ],
            "image/png": "[encoded data removed]"
          },
          "metadata": {
            "needs_background": "light"
          }
        }
      ]
    },
    {
      "cell_type": "code",
      "source": [
        "i = 5\n",
        "plt.figure(figsize=(6,3))\n",
        "plt.subplot(1,2,1)\n",
        "plot_image(i, predictions[i], test_y, test_x)\n",
        "plt.subplot(1,2,2)\n",
        "plot_value_array(i, predictions[i],  test_y)\n",
        "plt.show()"
      ],
      "metadata": {
        "colab": {
          "base_uri": "https://localhost:8080/",
          "height": 211
        },
        "id": "0TMyiuza-TUV",
        "outputId": "4beaaee8-269a-4a8c-9a8e-9a1e0eeffc46"
      },
      "execution_count": 360,
      "outputs": [
        {
          "output_type": "display_data",
          "data": {
            "text/plain": [
              "<Figure size 432x216 with 2 Axes>"
            ],
            "image/png": "[encoded data removed]"
          },
          "metadata": {
            "needs_background": "light"
          }
        }
      ]
    },
    {
      "cell_type": "code",
      "source": [
        "i = 6\n",
        "plt.figure(figsize=(6,3))\n",
        "plt.subplot(1,2,1)\n",
        "plot_image(i, predictions[i], test_y, test_x)\n",
        "plt.subplot(1,2,2)\n",
        "plot_value_array(i, predictions[i],  test_y)\n",
        "plt.show()"
      ],
      "metadata": {
        "colab": {
          "base_uri": "https://localhost:8080/",
          "height": 211
        },
        "id": "7og1bs-4-VFE",
        "outputId": "24aa0130-d084-40f8-fb05-3dc5c9204cb1"
      },
      "execution_count": 361,
      "outputs": [
        {
          "output_type": "display_data",
          "data": {
            "text/plain": [
              "<Figure size 432x216 with 2 Axes>"
            ],
            "image/png": "[encoded data removed]"
          },
          "metadata": {
            "needs_background": "light"
          }
        }
      ]
    },
    {
      "cell_type": "code",
      "source": [
        "i = 7\n",
        "plt.figure(figsize=(6,3))\n",
        "plt.subplot(1,2,1)\n",
        "plot_image(i, predictions[i], test_y, test_x)\n",
        "plt.subplot(1,2,2)\n",
        "plot_value_array(i, predictions[i],  test_y)\n",
        "plt.show()"
      ],
      "metadata": {
        "colab": {
          "base_uri": "https://localhost:8080/",
          "height": 211
        },
        "id": "UkUoBAoK-WUQ",
        "outputId": "12365001-a0c0-4b4a-b476-47c0fb29817d"
      },
      "execution_count": 362,
      "outputs": [
        {
          "output_type": "display_data",
          "data": {
            "text/plain": [
              "<Figure size 432x216 with 2 Axes>"
            ],
            "image/png": "[encoded data removed]"
          },
          "metadata": {
            "needs_background": "light"
          }
        }
      ]
    },
    {
      "cell_type": "code",
      "source": [
        "i = 8\n",
        "plt.figure(figsize=(6,3))\n",
        "plt.subplot(1,2,1)\n",
        "plot_image(i, predictions[i], test_y, test_x)\n",
        "plt.subplot(1,2,2)\n",
        "plot_value_array(i, predictions[i],  test_y)\n",
        "plt.show()"
      ],
      "metadata": {
        "colab": {
          "base_uri": "https://localhost:8080/",
          "height": 211
        },
        "id": "4zTgOa_6-V1W",
        "outputId": "179ba888-2301-43f6-aec3-0fb2407b5f73"
      },
      "execution_count": 363,
      "outputs": [
        {
          "output_type": "display_data",
          "data": {
            "text/plain": [
              "<Figure size 432x216 with 2 Axes>"
            ],
            "image/png": "[encoded data removed]"
          },
          "metadata": {
            "needs_background": "light"
          }
        }
      ]
    },
    {
      "cell_type": "code",
      "source": [
        "i = 9\n",
        "plt.figure(figsize=(6,3))\n",
        "plt.subplot(1,2,1)\n",
        "plot_image(i, predictions[i], test_y, test_x)\n",
        "plt.subplot(1,2,2)\n",
        "plot_value_array(i, predictions[i],  test_y)\n",
        "plt.show()"
      ],
      "metadata": {
        "colab": {
          "base_uri": "https://localhost:8080/",
          "height": 211
        },
        "id": "f5c_L1l9-XZl",
        "outputId": "918c7419-5d01-454c-851a-c32e4e2be4e9"
      },
      "execution_count": 364,
      "outputs": [
        {
          "output_type": "display_data",
          "data": {
            "text/plain": [
              "<Figure size 432x216 with 2 Axes>"
            ],
            "image/png": "[encoded data removed]"
          },
          "metadata": {
            "needs_background": "light"
          }
        }
      ]
    },
    {
      "cell_type": "code",
      "source": [
        "# Predicciones correctas en azul y predicciones incorrectas en rojo\n",
        "num_rows = 5\n",
        "num_cols = 3\n",
        "num_images = num_rows*num_cols\n",
        "plt.figure(figsize=(2*2*num_cols, 2*num_rows))\n",
        "for i in range(num_images):\n",
        "  plt.subplot(num_rows, 2*num_cols, 2*i+1)\n",
        "  plot_image(i, predictions[i], test_y, test_x)\n",
        "  plt.subplot(num_rows, 2*num_cols, 2*i+2)\n",
        "  plot_value_array(i, predictions[i], test_y)\n",
        "plt.tight_layout()\n",
        "plt.show()"
      ],
      "metadata": {
        "colab": {
          "base_uri": "https://localhost:8080/",
          "height": 729
        },
        "id": "bw1evn2jCi2Z",
        "outputId": "db138c4e-3476-4f5e-ef1d-2c12f7f90565"
      },
      "execution_count": 365,
      "outputs": [
        {
          "output_type": "display_data",
          "data": {
            "text/plain": [
              "<Figure size 864x720 with 30 Axes>"
            ],
            "image/png": "[encoded data removed]"
          },
          "metadata": {
            "needs_background": "light"
          }
        }
      ]
    },
    {
      "cell_type": "code",
      "source": [
        "img = test_x[0]\n",
        "\n",
        "print(img.shape)"
      ],
      "metadata": {
        "colab": {
          "base_uri": "https://localhost:8080/"
        },
        "id": "konHb8pSDAXh",
        "outputId": "adc912c4-fcdf-428c-ee2b-5528e3a8149d"
      },
      "execution_count": 370,
      "outputs": [
        {
          "output_type": "stream",
          "name": "stdout",
          "text": [
            "(28, 28)\n"
          ]
        }
      ]
    },
    {
      "cell_type": "code",
      "source": [
        "img = (npy.expand_dims(img,0))\n",
        "\n",
        "print(img.shape)"
      ],
      "metadata": {
        "colab": {
          "base_uri": "https://localhost:8080/"
        },
        "id": "Xlifyt04DD9C",
        "outputId": "d00cf6ae-7350-4fd0-f5c0-e535ffe51ceb"
      },
      "execution_count": 371,
      "outputs": [
        {
          "output_type": "stream",
          "name": "stdout",
          "text": [
            "(1, 28, 28)\n"
          ]
        }
      ]
    },
    {
      "cell_type": "code",
      "source": [
        "predictions_single = model.predict(img)\n",
        "\n",
        "print(predictions_single)"
      ],
      "metadata": {
        "colab": {
          "base_uri": "https://localhost:8080/"
        },
        "id": "ammvUc8-DHuw",
        "outputId": "9a7009cc-143d-4698-869d-55eb1c878a5f"
      },
      "execution_count": 372,
      "outputs": [
        {
          "output_type": "stream",
          "name": "stdout",
          "text": [
            "1/1 [==============================] - 0s 19ms/step\n",
            "[[1.5302176e-03 2.6557868e-04 2.6661966e-03 3.8373058e-03 8.2751969e-04\n",
            "  6.1416954e-01 3.5225183e-01 8.7654458e-05 2.3693547e-02 6.7060394e-04]]\n"
          ]
        }
      ]
    },
    {
      "cell_type": "code",
      "source": [
        "plot_value_array(1, predictions_single[0], test_y)\n",
        "_ = plt.xticks(range(10), class_names, rotation=45)"
      ],
      "metadata": {
        "colab": {
          "base_uri": "https://localhost:8080/",
          "height": 267
        },
        "id": "OuNV_b0wDLjQ",
        "outputId": "06ec2667-e0a6-4671-8164-fb0e86b2312b"
      },
      "execution_count": 373,
      "outputs": [
        {
          "output_type": "display_data",
          "data": {
            "text/plain": [
              "<Figure size 432x288 with 1 Axes>"
            ],
            "image/png": "[encoded data removed]"
          },
          "metadata": {
            "needs_background": "light"
          }
        }
      ]
    },
    {
      "cell_type": "code",
      "source": [
        "npy.argmax(predictions_single[0])"
      ],
      "metadata": {
        "colab": {
          "base_uri": "https://localhost:8080/"
        },
        "id": "KOK8DQeVDZ7Z",
        "outputId": "b9ec3745-65ab-4607-e76d-b670db1db9d6"
      },
      "execution_count": 237,
      "outputs": [
        {
          "output_type": "execute_result",
          "data": {
            "text/plain": [
              "8"
            ]
          },
          "metadata": {},
          "execution_count": 237
        }
      ]
    }
  ]
}
